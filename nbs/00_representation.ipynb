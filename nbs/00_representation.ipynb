{
 "cells": [
  {
   "cell_type": "code",
   "execution_count": null,
   "metadata": {},
   "outputs": [],
   "source": [
    "#default_exp representation"
   ]
  },
  {
   "cell_type": "code",
   "execution_count": null,
   "metadata": {},
   "outputs": [],
   "source": [
    "#export\n",
    "from fastai2.vision.all import *"
   ]
  },
  {
   "cell_type": "code",
   "execution_count": null,
   "metadata": {},
   "outputs": [],
   "source": [
    "#hide\n",
    "from nbdev.showdoc import *"
   ]
  },
  {
   "cell_type": "code",
   "execution_count": null,
   "metadata": {},
   "outputs": [],
   "source": [
    "path = untar_data(URLs.MNIST_TINY)\n",
    "dls = ImageDataLoaders.from_folder(path)\n",
    "learn = cnn_learner(dls, resnet18, pretrained=False)\n",
    "m = learn.model"
   ]
  },
  {
   "cell_type": "markdown",
   "metadata": {},
   "source": [
    "# Representation\n",
    "\n",
    "> Functions and utilities to get representations of pytorch/fastai objects."
   ]
  },
  {
   "cell_type": "markdown",
   "metadata": {},
   "source": [
    "## TODO\n",
    "* recursively obtain representations"
   ]
  },
  {
   "cell_type": "markdown",
   "metadata": {},
   "source": [
    "## Model representation"
   ]
  },
  {
   "cell_type": "markdown",
   "metadata": {},
   "source": [
    "First we want to represent any model as a graph. A graph consists of nodes and links, the nodes will be a collection of nn.Module's and nn.Parameter's, and the links will describe the connections between them."
   ]
  },
  {
   "cell_type": "code",
   "execution_count": null,
   "metadata": {},
   "outputs": [],
   "source": [
    "#export\n",
    "class Representation:\n",
    "    'Representation of a Model'\n",
    "    def __init__(self, name, inp_shape, out_shape, modules=None, params=None, links=None, xtra=None):\n",
    "        store_attr(self, 'name,inp_shape,out_shape,modules,params,links')\n",
    "        self.xtra = ifnone(xtra, dict())\n",
    "        \n",
    "    def __repr__(self):\n",
    "        return (f'{self.name} {self.inp_shape} -> {self.out_shape} (\\n' +\n",
    "                f'  modules: {self.modules}\\n' +\n",
    "                f'  params: {self.params}\\n' +\n",
    "                f'  links: {self.links}\\n' +\n",
    "                f'  xtra: {self.xtra}\\n' +\n",
    "                 ')')"
   ]
  },
  {
   "cell_type": "code",
   "execution_count": null,
   "metadata": {},
   "outputs": [],
   "source": [
    "#hide\n",
    "# temporal test\n",
    "def _print_shapes(o, bs):\n",
    "    if isinstance(o, torch.Size): return ' x '.join([str(bs)] + [str(t) for t in o[1:]])\n",
    "    else: return str([_print_shapes(x, bs) for x in o])"
   ]
  },
  {
   "cell_type": "code",
   "execution_count": null,
   "metadata": {},
   "outputs": [],
   "source": [
    "#export\n",
    "@patch\n",
    "def to_representation(self:nn.Module, *xb):\n",
    "    \"Gets a summary of `self` using `xb`\"\n",
    "    sample_inputs,infos = layer_info(self, *xb)\n",
    "    n,bs = 64,find_bs(xb)\n",
    "    name = self.__class__.__name__\n",
    "    modules,params,links,xtra = L(),L(),L(),{}\n",
    "    inp_shape = list(apply(lambda x:x.shape, xb)[0])\n",
    "    out_shape = list(apply(lambda x:x.shape, xb)[0])\n",
    "    infos = L([o for o in infos if o is not None]) #see comment in previous cell\n",
    "    for i,(typ,np,trn,sz) in infos.enumerate():\n",
    "        modules.append({'idx':i, 'name':typ})\n",
    "    \n",
    "    if isinstance(self, nn.Sequential):\n",
    "        idxs = modules.map(lambda x: x['idx'])\n",
    "        links = idxs[:-1].map_zipwith(lambda a,b: {'source':a, 'target':b}, idxs[1:])\n",
    "    else: raise NotImplementedError()\n",
    "    \n",
    "    return Representation(name, inp_shape, out_shape, modules, params, links, xtra)\n",
    "    \n",
    "    inp_sz = _print_shapes(apply(lambda x:x.shape, xb), bs)\n",
    "    res = f\"{self.__class__.__name__} (Input shape: {inp_sz})\\n\"\n",
    "    res += \"=\" * n + \"\\n\"\n",
    "    res += f\"{'Layer (type)':<20} {'Output Shape':<20} {'Param #':<10} {'Trainable':<10}\\n\"\n",
    "    res += \"=\" * n + \"\\n\"\n",
    "    ps,trn_ps = 0,0\n",
    "    infos = [o for o in infos if o is not None] #see comment in previous cell\n",
    "    for typ,np,trn,sz in infos:\n",
    "        if sz is None: continue\n",
    "        ps += np\n",
    "        if trn: trn_ps += np\n",
    "        res += f\"{typ:<20} {_print_shapes(sz, bs)[:19]:<20} {np:<10,} {str(trn):<10}\\n\"\n",
    "        res += \"_\" * n + \"\\n\"\n",
    "    res += f\"\\nTotal params: {ps:,}\\n\"\n",
    "    res += f\"Total trainable params: {trn_ps:,}\\n\"\n",
    "    res += f\"Total non-trainable params: {ps - trn_ps:,}\\n\\n\"\n",
    "    return Representation(name, inp_shape, out_shape, modules, params, links, xtra), PrettyString(res)"
   ]
  },
  {
   "cell_type": "code",
   "execution_count": null,
   "metadata": {},
   "outputs": [],
   "source": [
    "#export\n",
    "@patch\n",
    "def to_representation(self:Learner):\n",
    "    \"Gets a summary of the model, optimizer and loss function.\"\n",
    "    xb = self.dls.train.one_batch()[:self.dls.train.n_inp]\n",
    "    return self.model.to_representation(*xb)\n",
    "    res = self.model.summary(*xb)\n",
    "    res += f\"Optimizer used: {self.opt_func}\\nLoss function: {self.loss_func}\\n\\n\"\n",
    "    if self.opt is not None:\n",
    "        res += f\"Model \" + (\"unfrozen\\n\\n\" if self.opt.frozen_idx==0 else f\"frozen up to parameter group number {self.opt.frozen_idx}\\n\\n\")\n",
    "    res += \"Callbacks:\\n\" + '\\n'.join(f\"  - {cb}\" for cb in sort_by_run(self.cbs))\n",
    "    return PrettyString(res)"
   ]
  },
  {
   "cell_type": "code",
   "execution_count": null,
   "metadata": {},
   "outputs": [
    {
     "data": {
      "text/plain": [
       "Sequential [64, 3, 28, 28] -> [64, 3, 28, 28] (\n",
       "  modules: (#60) [{'idx': 0, 'name': 'Conv2d'},{'idx': 1, 'name': 'BatchNorm2d'},{'idx': 2, 'name': 'ReLU'},{'idx': 3, 'name': 'MaxPool2d'},{'idx': 4, 'name': 'Conv2d'},{'idx': 5, 'name': 'BatchNorm2d'},{'idx': 6, 'name': 'ReLU'},{'idx': 7, 'name': 'Conv2d'},{'idx': 8, 'name': 'BatchNorm2d'},{'idx': 9, 'name': 'Conv2d'}...]\n",
       "  params: (#0) []\n",
       "  links: (#59) [{'source': 0, 'target': 1},{'source': 1, 'target': 2},{'source': 2, 'target': 3},{'source': 3, 'target': 4},{'source': 4, 'target': 5},{'source': 5, 'target': 6},{'source': 6, 'target': 7},{'source': 7, 'target': 8},{'source': 8, 'target': 9},{'source': 9, 'target': 10}...]\n",
       "  xtra: {}\n",
       ")"
      ]
     },
     "execution_count": null,
     "metadata": {},
     "output_type": "execute_result"
    }
   ],
   "source": [
    "r = learn.to_representation()\n",
    "r"
   ]
  },
  {
   "cell_type": "code",
   "execution_count": null,
   "metadata": {},
   "outputs": [],
   "source": [
    "#export\n",
    "@patch\n",
    "def to_json(self:Representation):\n",
    "    nodes = list(self.modules)\n",
    "    links = list(self.links)\n",
    "    return json.dumps({'nodes':nodes, 'links':links})"
   ]
  },
  {
   "cell_type": "code",
   "execution_count": null,
   "metadata": {},
   "outputs": [
    {
     "data": {
      "text/plain": [
       "'{\"nodes\": [{\"idx\": 0, \"name\": \"Conv2d\"}, {\"idx\": 1, \"name\": \"BatchNorm2d\"}, {\"idx\": 2, \"name\": \"ReLU\"}, {\"idx\": 3, \"name\": \"MaxPool2d\"}, {\"idx\": 4, \"name\": \"Conv2d\"}, {\"idx\": 5, \"name\": \"BatchNorm2d\"}, {\"idx\": 6, \"name\": \"ReLU\"}, {\"idx\": 7, \"name\": \"Conv2d\"}, {\"idx\": 8, \"name\": \"BatchNorm2d\"}, {\"idx\": 9, \"name\": \"Conv2d\"}, {\"idx\": 10, \"name\": \"BatchNorm2d\"}, {\"idx\": 11, \"name\": \"ReLU\"}, {\"idx\": 12, \"name\": \"Conv2d\"}, {\"idx\": 13, \"name\": \"BatchNorm2d\"}, {\"idx\": 14, \"name\": \"Conv2d\"}, {\"idx\": 15, \"name\": \"BatchNorm2d\"}, {\"idx\": 16, \"name\": \"ReLU\"}, {\"idx\": 17, \"name\": \"Conv2d\"}, {\"idx\": 18, \"name\": \"BatchNorm2d\"}, {\"idx\": 19, \"name\": \"Conv2d\"}, {\"idx\": 20, \"name\": \"BatchNorm2d\"}, {\"idx\": 21, \"name\": \"Conv2d\"}, {\"idx\": 22, \"name\": \"BatchNorm2d\"}, {\"idx\": 23, \"name\": \"ReLU\"}, {\"idx\": 24, \"name\": \"Conv2d\"}, {\"idx\": 25, \"name\": \"BatchNorm2d\"}, {\"idx\": 26, \"name\": \"Conv2d\"}, {\"idx\": 27, \"name\": \"BatchNorm2d\"}, {\"idx\": 28, \"name\": \"ReLU\"}, {\"idx\": 29, \"name\": \"Conv2d\"}, {\"idx\": 30, \"name\": \"BatchNorm2d\"}, {\"idx\": 31, \"name\": \"Conv2d\"}, {\"idx\": 32, \"name\": \"BatchNorm2d\"}, {\"idx\": 33, \"name\": \"Conv2d\"}, {\"idx\": 34, \"name\": \"BatchNorm2d\"}, {\"idx\": 35, \"name\": \"ReLU\"}, {\"idx\": 36, \"name\": \"Conv2d\"}, {\"idx\": 37, \"name\": \"BatchNorm2d\"}, {\"idx\": 38, \"name\": \"Conv2d\"}, {\"idx\": 39, \"name\": \"BatchNorm2d\"}, {\"idx\": 40, \"name\": \"ReLU\"}, {\"idx\": 41, \"name\": \"Conv2d\"}, {\"idx\": 42, \"name\": \"BatchNorm2d\"}, {\"idx\": 43, \"name\": \"Conv2d\"}, {\"idx\": 44, \"name\": \"BatchNorm2d\"}, {\"idx\": 45, \"name\": \"Conv2d\"}, {\"idx\": 46, \"name\": \"BatchNorm2d\"}, {\"idx\": 47, \"name\": \"ReLU\"}, {\"idx\": 48, \"name\": \"Conv2d\"}, {\"idx\": 49, \"name\": \"BatchNorm2d\"}, {\"idx\": 50, \"name\": \"AdaptiveAvgPool2d\"}, {\"idx\": 51, \"name\": \"AdaptiveMaxPool2d\"}, {\"idx\": 52, \"name\": \"Flatten\"}, {\"idx\": 53, \"name\": \"BatchNorm1d\"}, {\"idx\": 54, \"name\": \"Dropout\"}, {\"idx\": 55, \"name\": \"Linear\"}, {\"idx\": 56, \"name\": \"ReLU\"}, {\"idx\": 57, \"name\": \"BatchNorm1d\"}, {\"idx\": 58, \"name\": \"Dropout\"}, {\"idx\": 59, \"name\": \"Linear\"}], \"links\": [{\"source\": 0, \"target\": 1}, {\"source\": 1, \"target\": 2}, {\"source\": 2, \"target\": 3}, {\"source\": 3, \"target\": 4}, {\"source\": 4, \"target\": 5}, {\"source\": 5, \"target\": 6}, {\"source\": 6, \"target\": 7}, {\"source\": 7, \"target\": 8}, {\"source\": 8, \"target\": 9}, {\"source\": 9, \"target\": 10}, {\"source\": 10, \"target\": 11}, {\"source\": 11, \"target\": 12}, {\"source\": 12, \"target\": 13}, {\"source\": 13, \"target\": 14}, {\"source\": 14, \"target\": 15}, {\"source\": 15, \"target\": 16}, {\"source\": 16, \"target\": 17}, {\"source\": 17, \"target\": 18}, {\"source\": 18, \"target\": 19}, {\"source\": 19, \"target\": 20}, {\"source\": 20, \"target\": 21}, {\"source\": 21, \"target\": 22}, {\"source\": 22, \"target\": 23}, {\"source\": 23, \"target\": 24}, {\"source\": 24, \"target\": 25}, {\"source\": 25, \"target\": 26}, {\"source\": 26, \"target\": 27}, {\"source\": 27, \"target\": 28}, {\"source\": 28, \"target\": 29}, {\"source\": 29, \"target\": 30}, {\"source\": 30, \"target\": 31}, {\"source\": 31, \"target\": 32}, {\"source\": 32, \"target\": 33}, {\"source\": 33, \"target\": 34}, {\"source\": 34, \"target\": 35}, {\"source\": 35, \"target\": 36}, {\"source\": 36, \"target\": 37}, {\"source\": 37, \"target\": 38}, {\"source\": 38, \"target\": 39}, {\"source\": 39, \"target\": 40}, {\"source\": 40, \"target\": 41}, {\"source\": 41, \"target\": 42}, {\"source\": 42, \"target\": 43}, {\"source\": 43, \"target\": 44}, {\"source\": 44, \"target\": 45}, {\"source\": 45, \"target\": 46}, {\"source\": 46, \"target\": 47}, {\"source\": 47, \"target\": 48}, {\"source\": 48, \"target\": 49}, {\"source\": 49, \"target\": 50}, {\"source\": 50, \"target\": 51}, {\"source\": 51, \"target\": 52}, {\"source\": 52, \"target\": 53}, {\"source\": 53, \"target\": 54}, {\"source\": 54, \"target\": 55}, {\"source\": 55, \"target\": 56}, {\"source\": 56, \"target\": 57}, {\"source\": 57, \"target\": 58}, {\"source\": 58, \"target\": 59}]}'"
      ]
     },
     "execution_count": null,
     "metadata": {},
     "output_type": "execute_result"
    }
   ],
   "source": [
    "r.to_json()"
   ]
  },
  {
   "cell_type": "code",
   "execution_count": null,
   "metadata": {},
   "outputs": [
    {
     "data": {
      "text/plain": [
       "Sequential (Input shape: ['64 x 3 x 28 x 28'])\n",
       "================================================================\n",
       "Layer (type)         Output Shape         Param #    Trainable \n",
       "================================================================\n",
       "Conv2d               64 x 64 x 14 x 14    9,408      True      \n",
       "________________________________________________________________\n",
       "BatchNorm2d          64 x 64 x 14 x 14    128        True      \n",
       "________________________________________________________________\n",
       "ReLU                 64 x 64 x 14 x 14    0          False     \n",
       "________________________________________________________________\n",
       "MaxPool2d            64 x 64 x 7 x 7      0          False     \n",
       "________________________________________________________________\n",
       "Conv2d               64 x 64 x 7 x 7      36,864     True      \n",
       "________________________________________________________________\n",
       "BatchNorm2d          64 x 64 x 7 x 7      128        True      \n",
       "________________________________________________________________\n",
       "ReLU                 64 x 64 x 7 x 7      0          False     \n",
       "________________________________________________________________\n",
       "Conv2d               64 x 64 x 7 x 7      36,864     True      \n",
       "________________________________________________________________\n",
       "BatchNorm2d          64 x 64 x 7 x 7      128        True      \n",
       "________________________________________________________________\n",
       "Conv2d               64 x 64 x 7 x 7      36,864     True      \n",
       "________________________________________________________________\n",
       "BatchNorm2d          64 x 64 x 7 x 7      128        True      \n",
       "________________________________________________________________\n",
       "ReLU                 64 x 64 x 7 x 7      0          False     \n",
       "________________________________________________________________\n",
       "Conv2d               64 x 64 x 7 x 7      36,864     True      \n",
       "________________________________________________________________\n",
       "BatchNorm2d          64 x 64 x 7 x 7      128        True      \n",
       "________________________________________________________________\n",
       "Conv2d               64 x 128 x 4 x 4     73,728     True      \n",
       "________________________________________________________________\n",
       "BatchNorm2d          64 x 128 x 4 x 4     256        True      \n",
       "________________________________________________________________\n",
       "ReLU                 64 x 128 x 4 x 4     0          False     \n",
       "________________________________________________________________\n",
       "Conv2d               64 x 128 x 4 x 4     147,456    True      \n",
       "________________________________________________________________\n",
       "BatchNorm2d          64 x 128 x 4 x 4     256        True      \n",
       "________________________________________________________________\n",
       "Conv2d               64 x 128 x 4 x 4     8,192      True      \n",
       "________________________________________________________________\n",
       "BatchNorm2d          64 x 128 x 4 x 4     256        True      \n",
       "________________________________________________________________\n",
       "Conv2d               64 x 128 x 4 x 4     147,456    True      \n",
       "________________________________________________________________\n",
       "BatchNorm2d          64 x 128 x 4 x 4     256        True      \n",
       "________________________________________________________________\n",
       "ReLU                 64 x 128 x 4 x 4     0          False     \n",
       "________________________________________________________________\n",
       "Conv2d               64 x 128 x 4 x 4     147,456    True      \n",
       "________________________________________________________________\n",
       "BatchNorm2d          64 x 128 x 4 x 4     256        True      \n",
       "________________________________________________________________\n",
       "Conv2d               64 x 256 x 2 x 2     294,912    True      \n",
       "________________________________________________________________\n",
       "BatchNorm2d          64 x 256 x 2 x 2     512        True      \n",
       "________________________________________________________________\n",
       "ReLU                 64 x 256 x 2 x 2     0          False     \n",
       "________________________________________________________________\n",
       "Conv2d               64 x 256 x 2 x 2     589,824    True      \n",
       "________________________________________________________________\n",
       "BatchNorm2d          64 x 256 x 2 x 2     512        True      \n",
       "________________________________________________________________\n",
       "Conv2d               64 x 256 x 2 x 2     32,768     True      \n",
       "________________________________________________________________\n",
       "BatchNorm2d          64 x 256 x 2 x 2     512        True      \n",
       "________________________________________________________________\n",
       "Conv2d               64 x 256 x 2 x 2     589,824    True      \n",
       "________________________________________________________________\n",
       "BatchNorm2d          64 x 256 x 2 x 2     512        True      \n",
       "________________________________________________________________\n",
       "ReLU                 64 x 256 x 2 x 2     0          False     \n",
       "________________________________________________________________\n",
       "Conv2d               64 x 256 x 2 x 2     589,824    True      \n",
       "________________________________________________________________\n",
       "BatchNorm2d          64 x 256 x 2 x 2     512        True      \n",
       "________________________________________________________________\n",
       "Conv2d               64 x 512 x 1 x 1     1,179,648  True      \n",
       "________________________________________________________________\n",
       "BatchNorm2d          64 x 512 x 1 x 1     1,024      True      \n",
       "________________________________________________________________\n",
       "ReLU                 64 x 512 x 1 x 1     0          False     \n",
       "________________________________________________________________\n",
       "Conv2d               64 x 512 x 1 x 1     2,359,296  True      \n",
       "________________________________________________________________\n",
       "BatchNorm2d          64 x 512 x 1 x 1     1,024      True      \n",
       "________________________________________________________________\n",
       "Conv2d               64 x 512 x 1 x 1     131,072    True      \n",
       "________________________________________________________________\n",
       "BatchNorm2d          64 x 512 x 1 x 1     1,024      True      \n",
       "________________________________________________________________\n",
       "Conv2d               64 x 512 x 1 x 1     2,359,296  True      \n",
       "________________________________________________________________\n",
       "BatchNorm2d          64 x 512 x 1 x 1     1,024      True      \n",
       "________________________________________________________________\n",
       "ReLU                 64 x 512 x 1 x 1     0          False     \n",
       "________________________________________________________________\n",
       "Conv2d               64 x 512 x 1 x 1     2,359,296  True      \n",
       "________________________________________________________________\n",
       "BatchNorm2d          64 x 512 x 1 x 1     1,024      True      \n",
       "________________________________________________________________\n",
       "AdaptiveAvgPool2d    64 x 512 x 1 x 1     0          False     \n",
       "________________________________________________________________\n",
       "AdaptiveMaxPool2d    64 x 512 x 1 x 1     0          False     \n",
       "________________________________________________________________\n",
       "Flatten              64 x 1024            0          False     \n",
       "________________________________________________________________\n",
       "BatchNorm1d          64 x 1024            2,048      True      \n",
       "________________________________________________________________\n",
       "Dropout              64 x 1024            0          False     \n",
       "________________________________________________________________\n",
       "Linear               64 x 512             524,288    True      \n",
       "________________________________________________________________\n",
       "ReLU                 64 x 512             0          False     \n",
       "________________________________________________________________\n",
       "BatchNorm1d          64 x 512             1,024      True      \n",
       "________________________________________________________________\n",
       "Dropout              64 x 512             0          False     \n",
       "________________________________________________________________\n",
       "Linear               64 x 2               1,024      True      \n",
       "________________________________________________________________\n",
       "\n",
       "Total params: 11,704,896\n",
       "Total trainable params: 11,704,896\n",
       "Total non-trainable params: 0\n",
       "\n",
       "Optimizer used: <function Adam at 0x7f90bb1539d0>\n",
       "Loss function: FlattenedLoss of CrossEntropyLoss()\n",
       "\n",
       "Callbacks:\n",
       "  - TrainEvalCallback\n",
       "  - Recorder\n",
       "  - ProgressCallback"
      ]
     },
     "execution_count": null,
     "metadata": {},
     "output_type": "execute_result"
    }
   ],
   "source": [
    "learn.summary()"
   ]
  },
  {
   "cell_type": "markdown",
   "metadata": {},
   "source": [
    "## Export -"
   ]
  },
  {
   "cell_type": "code",
   "execution_count": null,
   "metadata": {},
   "outputs": [
    {
     "name": "stdout",
     "output_type": "stream",
     "text": [
      "Converted 00_representation.ipynb.\n",
      "Converted 01_explorer.ipynb.\n",
      "Converted 10_tutorial.ipynb.\n",
      "Converted index.ipynb.\n"
     ]
    }
   ],
   "source": [
    "#hide\n",
    "from nbdev.export import notebook2script\n",
    "notebook2script()"
   ]
  },
  {
   "cell_type": "code",
   "execution_count": null,
   "metadata": {},
   "outputs": [],
   "source": []
  }
 ],
 "metadata": {
  "kernelspec": {
   "display_name": "ml2",
   "language": "python",
   "name": "ml2"
  }
 },
 "nbformat": 4,
 "nbformat_minor": 2
}
