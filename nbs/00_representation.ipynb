{
 "cells": [
  {
   "cell_type": "code",
   "execution_count": null,
   "metadata": {},
   "outputs": [],
   "source": [
    "#default_exp representation"
   ]
  },
  {
   "cell_type": "code",
   "execution_count": null,
   "metadata": {},
   "outputs": [],
   "source": [
    "#export\n",
    "from fastai2.vision.all import *"
   ]
  },
  {
   "cell_type": "code",
   "execution_count": null,
   "metadata": {},
   "outputs": [],
   "source": [
    "#hide\n",
    "from nbdev.showdoc import *"
   ]
  },
  {
   "cell_type": "code",
   "execution_count": null,
   "metadata": {},
   "outputs": [],
   "source": [
    "path = untar_data(URLs.MNIST_TINY)\n",
    "dls = ImageDataLoaders.from_folder(path)\n",
    "learn = cnn_learner(dls, resnet18, pretrained=False)\n",
    "m = learn.model"
   ]
  },
  {
   "cell_type": "markdown",
   "metadata": {},
   "source": [
    "# Representation\n",
    "\n",
    "> Functions and utilities to get representations of pytorch/fastai objects."
   ]
  },
  {
   "cell_type": "markdown",
   "metadata": {},
   "source": [
    "## TODO\n",
    "* recursively obtain representations"
   ]
  },
  {
   "cell_type": "markdown",
   "metadata": {},
   "source": [
    "## Model representation"
   ]
  },
  {
   "cell_type": "markdown",
   "metadata": {},
   "source": [
    "First we want to represent any model as a graph. A graph consists of nodes and links, the nodes will be a collection of nn.Module's and nn.Parameter's, and the links will describe the connections between them."
   ]
  },
  {
   "cell_type": "code",
   "execution_count": null,
   "metadata": {},
   "outputs": [],
   "source": [
    "#export\n",
    "class Representation:\n",
    "    'Representation of a Learn object.'\n",
    "    def __init__(self, data): self.data = data\n",
    "    def __repr__(self): return f'{self.__class__.__name__} (\\n{self.data}\\n)'"
   ]
  },
  {
   "cell_type": "code",
   "execution_count": null,
   "metadata": {},
   "outputs": [],
   "source": [
    "#export\n",
    "class Node:\n",
    "    \"Represents a Module or Parameter.\"\n",
    "    def __init__(self, name, idx, typ, obj=None, nodes=None, links=None, xtra=None):\n",
    "        store_attr(self, 'name,idx,typ,obj')\n",
    "        self.nodes = ifnone(nodes, [])\n",
    "        self.links = ifnone(links, [])\n",
    "        self.xtra  = ifnone(xtra , {})\n",
    "\n",
    "    def __repr__(self):\n",
    "        res = f'({self.__class__.__name__}): {self.name}, type: {self.typ}, idx={self.idx}'\n",
    "        if len(self.xtra): res += f'\\nxtra: {self.xtra}'\n",
    "        if len(self.nodes):\n",
    "            res += '\\nnodes: ['\n",
    "            for node in self.nodes: res += f'\\n  {node}'\n",
    "            res += '\\n]'\n",
    "\n",
    "        if len(self.links):\n",
    "            res += '\\nlinks: ['\n",
    "            for link in self.links: res += f'\\n  {link}'\n",
    "            res += '\\n]'\n",
    "            \n",
    "        return res"
   ]
  },
  {
   "cell_type": "code",
   "execution_count": null,
   "metadata": {},
   "outputs": [],
   "source": [
    "#export\n",
    "@patch\n",
    "def to_representation(self:nn.Module, name=None, idx=0, xtra=None):\n",
    "    \"Obtain information of the Module and stores it on a `Node`.\"\n",
    "    name = ifnone(name, self.__class__.__name__)\n",
    "    xtra = ifnone(xtra, {})\n",
    "    typ = 'Sequential' if isinstance(self, nn.Sequential) else 'Module'\n",
    "    nodes,links = _get_module_nodes(self)\n",
    "    if hasattr(self, '_xtra'): xtra.update(self._xtra)\n",
    "    return Node(name, idx, typ, self, nodes, links, xtra)\n",
    "\n",
    "def _get_module_nodes(module:nn.Module):\n",
    "    \"Obtain the `Node` representation for all the module childrens.\"\n",
    "    nodes,links = [],[]\n",
    "    is_seq = isinstance(module, nn.Sequential)\n",
    "    for i,(n,m) in enumerate(module.named_children()):\n",
    "        if is_seq: n = f'{n}_{m.__class__.__name__}'\n",
    "        nodes.append(m.to_representation(n,i))\n",
    "        if i>0: links.append({'source':i-1, 'target':i})\n",
    "\n",
    "    return nodes,links"
   ]
  },
  {
   "cell_type": "code",
   "execution_count": null,
   "metadata": {},
   "outputs": [
    {
     "data": {
      "text/markdown": [
       "<h4 id=\"Module.to_representation\" class=\"doc_header\"><code>Module.to_representation</code><a href=\"__main__.py#L2\" class=\"source_link\" style=\"float:right\">[source]</a></h4>\n",
       "\n",
       "> <code>Module.to_representation</code>(**`name`**=*`None`*, **`idx`**=*`0`*, **`xtra`**=*`None`*)\n",
       "\n",
       "Obtain information of the Module and stores it on a [`Node`](/fastexplorer/representation#Node)."
      ],
      "text/plain": [
       "<IPython.core.display.Markdown object>"
      ]
     },
     "metadata": {},
     "output_type": "display_data"
    }
   ],
   "source": [
    "show_doc(nn.Module.to_representation)"
   ]
  },
  {
   "cell_type": "code",
   "execution_count": null,
   "metadata": {},
   "outputs": [],
   "source": [
    "#export\n",
    "@patch\n",
    "def to_representation(self:Learner):\n",
    "    \"Gets a representation of the Learner to be passed to a web client.\"\n",
    "    xb,yb = self.dls.train.one_batch()\n",
    "    def _get_info(m, i, o):\n",
    "        params,trainable = total_params(m)\n",
    "        m._xtra = {'params': params, 'trainable': trainable, 'shape': o.shape}\n",
    "    \n",
    "    model = self.model\n",
    "    layers = flatten_model(model)\n",
    "    with Hooks(layers, _get_info) as h: model.eval()(xb)\n",
    "    \n",
    "    nodes = [Node('Input', 0, 'Input', xtra={'shape':list(xb.shape)}),\n",
    "             self.model.to_representation(xtra={'open': True}),\n",
    "             Node('Output', 0, 'Output')]\n",
    "    links = [{'source':i, 'target':i+1} for i in range_of(nodes)]\n",
    "    rep = Representation(Node('Leaner', 0, 'Learner', nodes=nodes, links=links, xtra={'open': True}))\n",
    "    _update_shapes(rep.data)\n",
    "    for layer in layers: del(layer._xtra) # Clean\n",
    "    nodes[-1].xtra['shape'] = nodes[-2].xtra.get('shape')\n",
    "    return rep\n",
    "\n",
    "def _update_shapes(node):\n",
    "    shape = node.xtra.get('shape')\n",
    "    childs = node.nodes\n",
    "    if (shape is None) and len(childs):\n",
    "        for n in node.nodes: _update_shapes(n)\n",
    "        node.xtra['shape'] = childs[-1].xtra.get('shape')"
   ]
  },
  {
   "cell_type": "code",
   "execution_count": null,
   "metadata": {},
   "outputs": [
    {
     "data": {
      "text/markdown": [
       "<h4 id=\"Learner.to_representation\" class=\"doc_header\"><code>Learner.to_representation</code><a href=\"__main__.py#L2\" class=\"source_link\" style=\"float:right\">[source]</a></h4>\n",
       "\n",
       "> <code>Learner.to_representation</code>()\n",
       "\n",
       "Gets a representation of the Learner to be passed to a web client."
      ],
      "text/plain": [
       "<IPython.core.display.Markdown object>"
      ]
     },
     "metadata": {},
     "output_type": "display_data"
    }
   ],
   "source": [
    "show_doc(Learner.to_representation)"
   ]
  },
  {
   "cell_type": "code",
   "execution_count": null,
   "metadata": {},
   "outputs": [
    {
     "data": {
      "text/plain": [
       "\"(Node): Leaner, type: Learner, idx=0\\nxtra: {'open': True, 'shape': None}\\nnodes: [\\n  (Node): Input, type: Input, idx=0\\nxtra: {'shape': [64, 3, 28, 28]}\\n  (Node): Sequential, type: Sequential, idx=0\\nxtra: {'open': True, 'shape': torch.Size([64, 2])}\\nnodes: [\\n  (Node): 0_Sequential, type: Sequential, i\""
      ]
     },
     "execution_count": null,
     "metadata": {},
     "output_type": "execute_result"
    }
   ],
   "source": [
    "r = learn.to_representation()\n",
    "PrettyString(r.data)[:300]"
   ]
  },
  {
   "cell_type": "code",
   "execution_count": null,
   "metadata": {},
   "outputs": [],
   "source": [
    "#hide\n",
    "xb,yb = learn.dls.train.one_batch()"
   ]
  },
  {
   "cell_type": "code",
   "execution_count": null,
   "metadata": {},
   "outputs": [],
   "source": [
    "#export\n",
    "@patch\n",
    "def get_dict(self:Node):\n",
    "    \"Gets the dictionary of the `Node`.\"\n",
    "    res = {'name':self.name, 'type':self.typ, 'index':self.idx}\n",
    "    if len(self.nodes): res['nodes'] = [o.get_dict() for o in self.nodes]\n",
    "    if len(self.links): res['links'] = self.links\n",
    "    if len(self.xtra) : res['xtra']  = self.xtra\n",
    "    return res"
   ]
  },
  {
   "cell_type": "code",
   "execution_count": null,
   "metadata": {},
   "outputs": [
    {
     "data": {
      "text/markdown": [
       "<h4 id=\"Node.get_dict\" class=\"doc_header\"><code>Node.get_dict</code><a href=\"__main__.py#L2\" class=\"source_link\" style=\"float:right\">[source]</a></h4>\n",
       "\n",
       "> <code>Node.get_dict</code>()\n",
       "\n",
       "Gets the dictionary of the [`Node`](/fastexplorer/representation#Node)."
      ],
      "text/plain": [
       "<IPython.core.display.Markdown object>"
      ]
     },
     "metadata": {},
     "output_type": "display_data"
    }
   ],
   "source": [
    "show_doc(Node.get_dict)"
   ]
  },
  {
   "cell_type": "code",
   "execution_count": null,
   "metadata": {},
   "outputs": [],
   "source": [
    "#export\n",
    "@patch\n",
    "def to_json(self:Representation):\n",
    "    \"Gets the seriable json from the Leaner `Representation`.\"\n",
    "    return json.dumps(self.data.get_dict())"
   ]
  },
  {
   "cell_type": "code",
   "execution_count": null,
   "metadata": {},
   "outputs": [
    {
     "data": {
      "text/markdown": [
       "<h4 id=\"Representation.to_json\" class=\"doc_header\"><code>Representation.to_json</code><a href=\"__main__.py#L2\" class=\"source_link\" style=\"float:right\">[source]</a></h4>\n",
       "\n",
       "> <code>Representation.to_json</code>()\n",
       "\n",
       "Gets the seriable json from the Leaner [`Representation`](/fastexplorer/representation#Representation)."
      ],
      "text/plain": [
       "<IPython.core.display.Markdown object>"
      ]
     },
     "metadata": {},
     "output_type": "display_data"
    }
   ],
   "source": [
    "show_doc(Representation.to_json)"
   ]
  },
  {
   "cell_type": "code",
   "execution_count": null,
   "metadata": {},
   "outputs": [
    {
     "data": {
      "text/plain": [
       "'{\"name\": \"Leaner\", \"type\": \"Learner\", \"index\": 0, \"nodes\": [{\"name\": \"Input\", \"type\": \"Input\", \"index\": 0, \"xtra\": {\"shape\": [64, 3, 28, 28]}}, {\"name\": \"Sequential\", \"type\": \"Sequential\", \"index\": 0, \"nodes\": [{\"name\": \"0_Sequential\", \"type\": \"Sequential\", \"index\": 0, \"nodes\": [{\"name\": \"0_Conv2d\",'"
      ]
     },
     "execution_count": null,
     "metadata": {},
     "output_type": "execute_result"
    }
   ],
   "source": [
    "r.to_json()[:300]"
   ]
  },
  {
   "cell_type": "code",
   "execution_count": null,
   "metadata": {},
   "outputs": [
    {
     "data": {
      "text/plain": [
       "Sequential (Input shape: ['64 x 3 x 28 x 28'])\n",
       "================================================================\n",
       "Layer (type)         Output Shape         Param #    Trainable \n",
       "================================================================\n",
       "Conv2d               64 x 64 x 14 x 14    9,408      True      \n",
       "________________________________________________________________\n",
       "BatchNorm2d          64 x 64 x 14 x 14    128        True      \n",
       "________________________________________________________________\n",
       "ReLU                 64 x 64 x 14 x 14    0          False     \n",
       "________________________________________________________________\n",
       "MaxPool2d            64 x 64 x 7 x 7      0          False     \n",
       "________________________________________________________________\n",
       "Conv2d               64 x 64 x 7 x 7      36,864     True      \n",
       "________________________________________________________________\n",
       "BatchNorm2d          64 x 64 x 7 x 7      128        True      \n",
       "________________________________________________________________\n",
       "ReLU                 64 x 64 x 7 x 7      0          False     \n",
       "________________________________________________________________\n",
       "Conv2d               64 x 64 x 7 x 7      36,864     True      \n",
       "________________________________________________________________\n",
       "BatchNorm2d          64 x 64 x 7 x 7      128        True      \n",
       "________________________________________________________________\n",
       "Conv2d               64 x 64 x 7 x 7      36,864     True      \n",
       "________________________________________________________________\n",
       "BatchNorm2d          64 x 64 x 7 x 7      128        True      \n",
       "________________________________________________________________\n",
       "ReLU                 64 x 64 x 7 x 7      0          False     \n",
       "________________________________________________________________\n",
       "Conv2d               64 x 64 x 7 x 7      36,864     True      \n",
       "________________________________________________________________\n",
       "BatchNorm2d          64 x 64 x 7 x 7      128        True      \n",
       "________________________________________________________________\n",
       "Conv2d               64 x 128 x 4 x 4     73,728     True      \n",
       "________________________________________________________________\n",
       "BatchNorm2d          64 x 128 x 4 x 4     256        True      \n",
       "________________________________________________________________\n",
       "ReLU                 64 x 128 x 4 x 4     0          False     \n",
       "________________________________________________________________\n",
       "Conv2d               64 x 128 x 4 x 4     147,456    True      \n",
       "________________________________________________________________\n",
       "BatchNorm2d          64 x 128 x 4 x 4     256        True      \n",
       "________________________________________________________________\n",
       "Conv2d               64 x 128 x 4 x 4     8,192      True      \n",
       "________________________________________________________________\n",
       "BatchNorm2d          64 x 128 x 4 x 4     256        True      \n",
       "________________________________________________________________\n",
       "Conv2d               64 x 128 x 4 x 4     147,456    True      \n",
       "________________________________________________________________\n",
       "BatchNorm2d          64 x 128 x 4 x 4     256        True      \n",
       "________________________________________________________________\n",
       "ReLU                 64 x 128 x 4 x 4     0          False     \n",
       "________________________________________________________________\n",
       "Conv2d               64 x 128 x 4 x 4     147,456    True      \n",
       "________________________________________________________________\n",
       "BatchNorm2d          64 x 128 x 4 x 4     256        True      \n",
       "________________________________________________________________\n",
       "Conv2d               64 x 256 x 2 x 2     294,912    True      \n",
       "________________________________________________________________\n",
       "BatchNorm2d          64 x 256 x 2 x 2     512        True      \n",
       "________________________________________________________________\n",
       "ReLU                 64 x 256 x 2 x 2     0          False     \n",
       "________________________________________________________________\n",
       "Conv2d               64 x 256 x 2 x 2     589,824    True      \n",
       "________________________________________________________________\n",
       "BatchNorm2d          64 x 256 x 2 x 2     512        True      \n",
       "________________________________________________________________\n",
       "Conv2d               64 x 256 x 2 x 2     32,768     True      \n",
       "________________________________________________________________\n",
       "BatchNorm2d          64 x 256 x 2 x 2     512        True      \n",
       "________________________________________________________________\n",
       "Conv2d               64 x 256 x 2 x 2     589,824    True      \n",
       "________________________________________________________________\n",
       "BatchNorm2d          64 x 256 x 2 x 2     512        True      \n",
       "________________________________________________________________\n",
       "ReLU                 64 x 256 x 2 x 2     0          False     \n",
       "________________________________________________________________\n",
       "Conv2d               64 x 256 x 2 x 2     589,824    True      \n",
       "________________________________________________________________\n",
       "BatchNorm2d          64 x 256 x 2 x 2     512        True      \n",
       "________________________________________________________________\n",
       "Conv2d               64 x 512 x 1 x 1     1,179,648  True      \n",
       "________________________________________________________________\n",
       "BatchNorm2d          64 x 512 x 1 x 1     1,024      True      \n",
       "________________________________________________________________\n",
       "ReLU                 64 x 512 x 1 x 1     0          False     \n",
       "________________________________________________________________\n",
       "Conv2d               64 x 512 x 1 x 1     2,359,296  True      \n",
       "________________________________________________________________\n",
       "BatchNorm2d          64 x 512 x 1 x 1     1,024      True      \n",
       "________________________________________________________________\n",
       "Conv2d               64 x 512 x 1 x 1     131,072    True      \n",
       "________________________________________________________________\n",
       "BatchNorm2d          64 x 512 x 1 x 1     1,024      True      \n",
       "________________________________________________________________\n",
       "Conv2d               64 x 512 x 1 x 1     2,359,296  True      \n",
       "________________________________________________________________\n",
       "BatchNorm2d          64 x 512 x 1 x 1     1,024      True      \n",
       "________________________________________________________________\n",
       "ReLU                 64 x 512 x 1 x 1     0          False     \n",
       "________________________________________________________________\n",
       "Conv2d               64 x 512 x 1 x 1     2,359,296  True      \n",
       "________________________________________________________________\n",
       "BatchNorm2d          64 x 512 x 1 x 1     1,024      True      \n",
       "________________________________________________________________\n",
       "AdaptiveAvgPool2d    64 x 512 x 1 x 1     0          False     \n",
       "________________________________________________________________\n",
       "AdaptiveMaxPool2d    64 x 512 x 1 x 1     0          False     \n",
       "________________________________________________________________\n",
       "Flatten              64 x 1024            0          False     \n",
       "________________________________________________________________\n",
       "BatchNorm1d          64 x 1024            2,048      True      \n",
       "________________________________________________________________\n",
       "Dropout              64 x 1024            0          False     \n",
       "________________________________________________________________\n",
       "Linear               64 x 512             524,288    True      \n",
       "________________________________________________________________\n",
       "ReLU                 64 x 512             0          False     \n",
       "________________________________________________________________\n",
       "BatchNorm1d          64 x 512             1,024      True      \n",
       "________________________________________________________________\n",
       "Dropout              64 x 512             0          False     \n",
       "________________________________________________________________\n",
       "Linear               64 x 2               1,024      True      \n",
       "________________________________________________________________\n",
       "\n",
       "Total params: 11,704,896\n",
       "Total trainable params: 11,704,896\n",
       "Total non-trainable params: 0\n",
       "\n",
       "Optimizer used: <function Adam at 0x7fc8743229d0>\n",
       "Loss function: FlattenedLoss of CrossEntropyLoss()\n",
       "\n",
       "Callbacks:\n",
       "  - TrainEvalCallback\n",
       "  - Recorder\n",
       "  - ProgressCallback"
      ]
     },
     "execution_count": null,
     "metadata": {},
     "output_type": "execute_result"
    }
   ],
   "source": [
    "#hide\n",
    "learn.summary()"
   ]
  },
  {
   "cell_type": "markdown",
   "metadata": {},
   "source": [
    "## Export -"
   ]
  },
  {
   "cell_type": "code",
   "execution_count": null,
   "metadata": {},
   "outputs": [
    {
     "name": "stdout",
     "output_type": "stream",
     "text": [
      "Converted 00_representation.ipynb.\n",
      "Converted 01_explorer.ipynb.\n",
      "Converted 10_tutorial.ipynb.\n",
      "Converted index.ipynb.\n"
     ]
    }
   ],
   "source": [
    "#hide\n",
    "from nbdev.export import notebook2script\n",
    "notebook2script()"
   ]
  },
  {
   "cell_type": "code",
   "execution_count": null,
   "metadata": {},
   "outputs": [],
   "source": []
  }
 ],
 "metadata": {
  "kernelspec": {
   "display_name": "ml2",
   "language": "python",
   "name": "ml2"
  }
 },
 "nbformat": 4,
 "nbformat_minor": 2
}
