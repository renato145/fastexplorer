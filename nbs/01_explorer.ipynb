{
 "cells": [
  {
   "cell_type": "code",
   "execution_count": null,
   "metadata": {},
   "outputs": [],
   "source": [
    "#default_exp explorer"
   ]
  },
  {
   "cell_type": "code",
   "execution_count": null,
   "metadata": {},
   "outputs": [],
   "source": [
    "#export\n",
    "from fastai2.vision.all import *\n",
    "from fastexplorer.representation import *\n",
    "from starlette.applications import Starlette\n",
    "from starlette.endpoints import WebSocketEndpoint\n",
    "from starlette.websockets import WebSocketDisconnect\n",
    "import uvicorn, asyncio, json, logging\n",
    "import nest_asyncio\n",
    "nest_asyncio.apply()\n",
    "logger = logging.getLogger()\n",
    "logger.setLevel(logging.INFO)"
   ]
  },
  {
   "cell_type": "code",
   "execution_count": null,
   "metadata": {},
   "outputs": [],
   "source": [
    "#hide\n",
    "%reload_ext autoreload\n",
    "%autoreload 2\n",
    "from nbdev.showdoc import *"
   ]
  },
  {
   "cell_type": "code",
   "execution_count": null,
   "metadata": {},
   "outputs": [],
   "source": [
    "path = untar_data(URLs.MNIST_TINY)\n",
    "dls = ImageDataLoaders.from_folder(path)\n",
    "learn = cnn_learner(dls, resnet18, pretrained=False)"
   ]
  },
  {
   "cell_type": "markdown",
   "metadata": {},
   "source": [
    "# Fast Explorer\n",
    "\n",
    "> Here we will setup the server and store the model representation on the fastai `Learn` object.."
   ]
  },
  {
   "cell_type": "code",
   "execution_count": null,
   "metadata": {},
   "outputs": [],
   "source": [
    "#export\n",
    "class FastExplorer:\n",
    "    'Wrapper around `Representation` and `ProxyServer`.'\n",
    "    def __init__(self, learn, host='0.0.0.0', port=8000):\n",
    "        store_attr(self, 'learn,host,port')\n",
    "        self.representation = learn.to_representation()\n",
    "        self.server = Starlette()\n",
    "        self.endpoint = self.server.websocket_route('/ws')(self.endpoint)\n",
    "        self.socket = None\n",
    "        \n",
    "    def __repr__(self): return f'{self.__class__.__name__} ()'\n",
    "    \n",
    "    async def endpoint(self, websocket):\n",
    "        # Open socket\n",
    "        await websocket.accept()\n",
    "        msg = await websocket.receive_json()\n",
    "        self.socket = websocket\n",
    "        logging.info(f'Client connected: {msg}')\n",
    "        \n",
    "        # Manage requests\n",
    "        await websocket.send_json(self.representation.to_json())\n",
    "        \n",
    "        # Close socket\n",
    "#         state[client_type] = False\n",
    "#         websocket_dict.pop(client_type)\n",
    "        await close_client(websocket, 'Finalized by server')\n",
    "        logging.info(f'Client closed: {msg}')    \n",
    "    \n",
    "    def serve(self): uvicorn.run(self.server, host=self.host, port=self.port)"
   ]
  },
  {
   "cell_type": "code",
   "execution_count": null,
   "metadata": {},
   "outputs": [],
   "source": [
    "#export\n",
    "async def close_client(websocket, msg):\n",
    "    await websocket.send_json({'event': 'close', 'msg': msg})\n",
    "    await websocket.close()"
   ]
  },
  {
   "cell_type": "code",
   "execution_count": null,
   "metadata": {},
   "outputs": [],
   "source": [
    "#export\n",
    "@patch\n",
    "@delegates(FastExplorer.__init__)\n",
    "def fastexplorer(self:Learner, **kwargs):\n",
    "    if not hasattr(self, 'explorer'): self.explorer = FastExplorer(self, **kwargs)\n",
    "    self.explorer = FastExplorer(self, **kwargs)\n",
    "    self.explorer.serve()"
   ]
  },
  {
   "cell_type": "code",
   "execution_count": null,
   "metadata": {},
   "outputs": [
    {
     "name": "stderr",
     "output_type": "stream",
     "text": [
      "INFO:     Started server process [10195]\n",
      "INFO:     Waiting for application startup.\n",
      "INFO:     Application startup complete.\n",
      "INFO:     Uvicorn running on http://0.0.0.0:8000 (Press CTRL+C to quit)\n",
      "INFO:     ('127.0.0.1', 57722) - \"WebSocket /ws\" [accepted]\n",
      "INFO:     Client connected: {'client': 'web_client'}\n",
      "INFO:     Client closed: {'client': 'web_client'}\n",
      "INFO:     Shutting down\n",
      "INFO:     Waiting for application shutdown.\n",
      "INFO:     Application shutdown complete.\n",
      "INFO:     Finished server process [10195]\n"
     ]
    }
   ],
   "source": [
    "learn.fastexplorer()"
   ]
  },
  {
   "cell_type": "markdown",
   "metadata": {},
   "source": [
    "## Export -"
   ]
  },
  {
   "cell_type": "code",
   "execution_count": null,
   "metadata": {},
   "outputs": [
    {
     "name": "stdout",
     "output_type": "stream",
     "text": [
      "Converted 00_server.ipynb.\n",
      "Converted 01_representation.ipynb.\n",
      "Converted 02_fastexplorer.ipynb.\n",
      "Converted 10_tutorial.ipynb.\n",
      "Converted index.ipynb.\n"
     ]
    }
   ],
   "source": [
    "#hide\n",
    "from nbdev.export import notebook2script\n",
    "notebook2script()"
   ]
  },
  {
   "cell_type": "code",
   "execution_count": null,
   "metadata": {},
   "outputs": [],
   "source": []
  }
 ],
 "metadata": {
  "kernelspec": {
   "display_name": "ml2",
   "language": "python",
   "name": "ml2"
  }
 },
 "nbformat": 4,
 "nbformat_minor": 2
}
