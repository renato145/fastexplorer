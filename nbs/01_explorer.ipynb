{
 "cells": [
  {
   "cell_type": "code",
   "execution_count": null,
   "metadata": {},
   "outputs": [],
   "source": [
    "#default_exp explorer"
   ]
  },
  {
   "cell_type": "code",
   "execution_count": null,
   "metadata": {},
   "outputs": [],
   "source": [
    "#export\n",
    "from fastai2.vision.all import *\n",
    "from fastexplorer.representation import *\n",
    "from starlette.applications import Starlette\n",
    "from starlette.endpoints import WebSocketEndpoint\n",
    "from starlette.websockets import WebSocketDisconnect\n",
    "import uvicorn, asyncio, json, logging\n",
    "import nest_asyncio\n",
    "nest_asyncio.apply()\n",
    "logger = logging.getLogger()\n",
    "logger.setLevel(logging.INFO)"
   ]
  },
  {
   "cell_type": "code",
   "execution_count": null,
   "metadata": {},
   "outputs": [],
   "source": [
    "#hide\n",
    "%reload_ext autoreload\n",
    "%autoreload 2\n",
    "from nbdev.showdoc import *"
   ]
  },
  {
   "cell_type": "code",
   "execution_count": null,
   "metadata": {},
   "outputs": [],
   "source": [
    "path = untar_data(URLs.MNIST_TINY)\n",
    "dls = ImageDataLoaders.from_folder(path)\n",
    "learn = cnn_learner(dls, resnet18, pretrained=False)"
   ]
  },
  {
   "cell_type": "markdown",
   "metadata": {},
   "source": [
    "# Fast Explorer\n",
    "\n",
    "> Here we will setup the server and store the model representation on the fastai `Learn` object.."
   ]
  },
  {
   "cell_type": "code",
   "execution_count": null,
   "metadata": {},
   "outputs": [],
   "source": [
    "#export\n",
    "class Events:\n",
    "    def __init__(self, d):\n",
    "        for k,v in d.items(): setattr(self, k, v)\n",
    "            \n",
    "    def __repr__(self):\n",
    "        res = f'{self.__class__.__name__} ({self.__dict__})'\n",
    "        return res\n",
    "\n",
    "clientEvents = Events({\n",
    "    'SEND_DATA': 'socket/socketReceiveData',\n",
    "    'INVALID_EVENT': 'socket/socketInvalidEvent',\n",
    "    'SEND_INPUT': 'socket/socketReceiveInput',\n",
    "})\n",
    "\n",
    "serverEvents = Events({\n",
    "    'RECEIVE_EVENT': 'socket/sendEvent',\n",
    "})"
   ]
  },
  {
   "cell_type": "code",
   "execution_count": null,
   "metadata": {},
   "outputs": [],
   "source": [
    "#export\n",
    "class FastExplorer:\n",
    "    'Wrapper around `Representation` and `ProxyServer`.'\n",
    "    def __init__(self, learn, host='0.0.0.0', port=8000):\n",
    "        store_attr(self, 'learn,host,port')\n",
    "        self.representation = learn.to_representation()\n",
    "        self.server = Starlette()\n",
    "        self.endpoint = self.server.websocket_route('/ws')(self.endpoint)\n",
    "        self.socket = None\n",
    "        \n",
    "    def __repr__(self): return f'{self.__class__.__name__} ()'\n",
    "\n",
    "    async def handle_web_client(self, websocket):\n",
    "        while True:\n",
    "            try:\n",
    "                msg = await websocket.receive_json()\n",
    "                logging.info(f'Client msg: {msg}')\n",
    "                await self.dispatch_event(websocket, msg)\n",
    "            except json.JSONDecodeError: logging.info('Invalid JSON received')\n",
    "            except WebSocketDisconnect: break\n",
    "    \n",
    "    async def dispatch_event(self, websocket, msg):\n",
    "        typ = msg['type']\n",
    "        event = msg['payload']['event'].lower()\n",
    "        \n",
    "        if typ != serverEvents.RECEIVE_EVENT:\n",
    "            logging.info(f'Invalid type: {typ!r}')\n",
    "        else:\n",
    "            if hasattr(self, event):\n",
    "                logging.info(f'Launching: {event}')\n",
    "                await getattr(self, event)(websocket)\n",
    "            else:\n",
    "                logging.info(f'Invalid event: {event!r}')\n",
    "                await websocket.send_json({\n",
    "                    'type': clientEvents.INVALID_EVENT,\n",
    "                    'payload': {'type': typ}\n",
    "                })\n",
    "\n",
    "    async def endpoint(self, websocket):\n",
    "        # Open socket\n",
    "        await websocket.accept()\n",
    "        msg = await websocket.receive_json()\n",
    "        self.socket = websocket\n",
    "        logging.info(f'Client connected: {msg}')\n",
    "        \n",
    "        # Manage requests\n",
    "        await websocket.send_json({\n",
    "                'type': clientEvents.SEND_DATA,\n",
    "                'payload': { 'data': self.representation.to_json()}\n",
    "            })\n",
    "        await self.handle_web_client(websocket)\n",
    "        \n",
    "        # Close socket\n",
    "        await close_client(websocket, 'Finalized by server')\n",
    "        logging.info(f'Client closed: {msg}')    \n",
    "    \n",
    "    async def close_client(self, websocket, msg):\n",
    "        await websocket.send_json({'event': 'close', 'msg': msg}) # TODO\n",
    "        await websocket.close()\n",
    "    \n",
    "    def serve(self): uvicorn.run(self.server, host=self.host, port=self.port)"
   ]
  },
  {
   "cell_type": "code",
   "execution_count": null,
   "metadata": {},
   "outputs": [],
   "source": [
    "#export\n",
    "@patch\n",
    "async def load_input(self:FastExplorer, websocket):\n",
    "    \"Sends a data sample to the client.\"\n",
    "    await websocket.send_json({'type': clientEvents.SEND_INPUT, 'payload': {'text': 'ulala'}})"
   ]
  },
  {
   "cell_type": "code",
   "execution_count": null,
   "metadata": {},
   "outputs": [
    {
     "data": {
      "text/markdown": [
       "<h4 id=\"FastExplorer.load_input\" class=\"doc_header\"><code>FastExplorer.load_input</code><a href=\"__main__.py#L2\" class=\"source_link\" style=\"float:right\">[source]</a></h4>\n",
       "\n",
       "> <code>FastExplorer.load_input</code>(**`websocket`**)\n",
       "\n",
       "Sends a data sample to the client."
      ],
      "text/plain": [
       "<IPython.core.display.Markdown object>"
      ]
     },
     "metadata": {},
     "output_type": "display_data"
    }
   ],
   "source": [
    "show_doc(FastExplorer.load_input)"
   ]
  },
  {
   "cell_type": "code",
   "execution_count": null,
   "metadata": {},
   "outputs": [],
   "source": [
    "#export\n",
    "@patch\n",
    "@delegates(FastExplorer.__init__)\n",
    "def fastexplorer(self:Learner, reload=False, **kwargs):\n",
    "    if (not hasattr(self, 'explorer')) or reload: self.explorer = FastExplorer(self, **kwargs)\n",
    "    self.explorer.serve()"
   ]
  },
  {
   "cell_type": "code",
   "execution_count": null,
   "metadata": {},
   "outputs": [
    {
     "name": "stderr",
     "output_type": "stream",
     "text": [
      "INFO:     Started server process [4684]\n",
      "INFO:     Waiting for application startup.\n",
      "INFO:     Application startup complete.\n",
      "INFO:     Uvicorn running on http://0.0.0.0:8000 (Press CTRL+C to quit)\n",
      "INFO:     Shutting down\n",
      "INFO:     Waiting for application shutdown.\n",
      "INFO:     Application shutdown complete.\n",
      "INFO:     Finished server process [4684]\n"
     ]
    }
   ],
   "source": [
    "#hide\n",
    "learn.fastexplorer(True)"
   ]
  },
  {
   "cell_type": "markdown",
   "metadata": {},
   "source": [
    "## Export -"
   ]
  },
  {
   "cell_type": "code",
   "execution_count": null,
   "metadata": {},
   "outputs": [
    {
     "name": "stdout",
     "output_type": "stream",
     "text": [
      "Converted 00_representation.ipynb.\n",
      "Converted 01_explorer.ipynb.\n",
      "Converted 10_tutorial.ipynb.\n",
      "Converted index.ipynb.\n"
     ]
    }
   ],
   "source": [
    "#hide\n",
    "from nbdev.export import notebook2script\n",
    "notebook2script()"
   ]
  },
  {
   "cell_type": "code",
   "execution_count": null,
   "metadata": {},
   "outputs": [],
   "source": []
  }
 ],
 "metadata": {
  "kernelspec": {
   "display_name": "ml2",
   "language": "python",
   "name": "ml2"
  }
 },
 "nbformat": 4,
 "nbformat_minor": 2
}
