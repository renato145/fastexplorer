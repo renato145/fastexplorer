{
 "cells": [
  {
   "cell_type": "code",
   "execution_count": null,
   "metadata": {},
   "outputs": [],
   "source": [
    "#default_exp explorer"
   ]
  },
  {
   "cell_type": "code",
   "execution_count": null,
   "metadata": {},
   "outputs": [],
   "source": [
    "#export\n",
    "from fastai2.vision.all import *\n",
    "from fastexplorer.representation import *\n",
    "from starlette.applications import Starlette\n",
    "from starlette.endpoints import WebSocketEndpoint\n",
    "from starlette.websockets import WebSocketDisconnect\n",
    "import uvicorn, asyncio, json, logging\n",
    "import nest_asyncio\n",
    "nest_asyncio.apply()\n",
    "logger = logging.getLogger()\n",
    "logger.setLevel(logging.INFO)"
   ]
  },
  {
   "cell_type": "code",
   "execution_count": null,
   "metadata": {},
   "outputs": [],
   "source": [
    "#hide\n",
    "%reload_ext autoreload\n",
    "%autoreload 2\n",
    "from nbdev.showdoc import *"
   ]
  },
  {
   "cell_type": "code",
   "execution_count": null,
   "metadata": {},
   "outputs": [],
   "source": [
    "path = untar_data(URLs.MNIST_TINY)\n",
    "dls = ImageDataLoaders.from_folder(path)\n",
    "learn = cnn_learner(dls, resnet18, pretrained=False)"
   ]
  },
  {
   "cell_type": "markdown",
   "metadata": {},
   "source": [
    "# Fast Explorer\n",
    "\n",
    "> Here we will setup the server and store the model representation on the fastai `Learn` object.."
   ]
  },
  {
   "cell_type": "markdown",
   "metadata": {},
   "source": [
    "## Event types"
   ]
  },
  {
   "cell_type": "code",
   "execution_count": null,
   "metadata": {},
   "outputs": [],
   "source": [
    "#export\n",
    "class Events:\n",
    "    def __init__(self, d):\n",
    "        for k,v in d.items(): setattr(self, k, v)\n",
    "            \n",
    "    def __repr__(self):\n",
    "        d = '\\n'.join([f'  {k}: {v}' for k,v in self.__dict__.items()])\n",
    "        res = f'{self.__class__.__name__} (\\n{d}\\n)'\n",
    "        return res\n",
    "\n",
    "clientEvents = Events({\n",
    "    'SEND_DATA': 'socket/socketReceiveData',\n",
    "    'INVALID_EVENT': 'socket/socketInvalidEvent',\n",
    "    'SEND_IMAGE_INPUT': 'socket/socketReceiveImageInput',\n",
    "    'CLOSE_CLIENT': 'socket/socketServerClosed',\n",
    "})\n",
    "\n",
    "serverEvents = Events({\n",
    "    'RECEIVE_EVENT': 'socket/sendEvent',\n",
    "})"
   ]
  },
  {
   "cell_type": "markdown",
   "metadata": {},
   "source": [
    "**Available events**"
   ]
  },
  {
   "cell_type": "markdown",
   "metadata": {},
   "source": [
    "clientEvents define the actions managed by the web client:"
   ]
  },
  {
   "cell_type": "code",
   "execution_count": null,
   "metadata": {},
   "outputs": [
    {
     "data": {
      "text/plain": [
       "Events (\n",
       "  SEND_DATA: socket/socketReceiveData\n",
       "  INVALID_EVENT: socket/socketInvalidEvent\n",
       "  SEND_IMAGE_INPUT: socket/socketReceiveImageInput\n",
       "  CLOSE_CLIENT: socket/socketServerClosed\n",
       ")"
      ]
     },
     "execution_count": null,
     "metadata": {},
     "output_type": "execute_result"
    }
   ],
   "source": [
    "clientEvents"
   ]
  },
  {
   "cell_type": "markdown",
   "metadata": {},
   "source": [
    "serverEvents define the actions managed by the `FastExplorer` server."
   ]
  },
  {
   "cell_type": "code",
   "execution_count": null,
   "metadata": {},
   "outputs": [
    {
     "data": {
      "text/plain": [
       "Events (\n",
       "  RECEIVE_EVENT: socket/sendEvent\n",
       ")"
      ]
     },
     "execution_count": null,
     "metadata": {},
     "output_type": "execute_result"
    }
   ],
   "source": [
    "serverEvents"
   ]
  },
  {
   "cell_type": "markdown",
   "metadata": {},
   "source": [
    "## Server"
   ]
  },
  {
   "cell_type": "code",
   "execution_count": null,
   "metadata": {},
   "outputs": [],
   "source": [
    "#export\n",
    "class FastExplorer:\n",
    "    'Wrapper around `Representation` and `ProxyServer`.'\n",
    "    def __init__(self, learn, host='0.0.0.0', port=8000):\n",
    "        store_attr(self, 'learn,host,port')\n",
    "        self.representation = learn.to_representation()\n",
    "        self.server = Starlette()\n",
    "        self.endpoint = self.server.websocket_route('/ws')(self.endpoint)\n",
    "        self.socket = None\n",
    "        \n",
    "    def __repr__(self): return f'{self.__class__.__name__} ()'\n",
    "\n",
    "    async def handle_web_client(self, websocket):\n",
    "        while True:\n",
    "            try:\n",
    "                msg = await websocket.receive_json()\n",
    "                logging.info(f'Client msg: {msg}')\n",
    "                await self.dispatch_event(websocket, msg)\n",
    "            except json.JSONDecodeError: logging.info('Invalid JSON received')\n",
    "            except WebSocketDisconnect: break\n",
    "    \n",
    "    async def dispatch_event(self, websocket, msg):\n",
    "        typ = msg['type']\n",
    "        event = msg['payload']['event'].lower()\n",
    "        \n",
    "        if typ != serverEvents.RECEIVE_EVENT:\n",
    "            logging.info(f'Invalid type: {typ!r}')\n",
    "        else:\n",
    "            if hasattr(self, event):\n",
    "                logging.info(f'Launching: {event}')\n",
    "                await getattr(self, event)(websocket)\n",
    "            else:\n",
    "                logging.info(f'Invalid event: {event!r}')\n",
    "                await websocket.send_json({\n",
    "                    'type': clientEvents.INVALID_EVENT,\n",
    "                    'payload': {'type': typ}\n",
    "                })\n",
    "\n",
    "    async def endpoint(self, websocket):\n",
    "        # Open socket\n",
    "        await websocket.accept()\n",
    "        msg = await websocket.receive_json()\n",
    "        self.socket = websocket\n",
    "        logging.info(f'Client connected: {msg}')\n",
    "        \n",
    "        # Manage requests\n",
    "        await websocket.send_json({\n",
    "                'type': clientEvents.SEND_DATA,\n",
    "                'payload': { 'data': self.representation.to_json()}\n",
    "            })\n",
    "        await self.handle_web_client(websocket)\n",
    "        \n",
    "        # Close socket\n",
    "        await self.close_client(websocket, 'Finalized by server')\n",
    "        logging.info(f'Client closed: {msg}')    \n",
    "    \n",
    "    async def close_client(self, websocket, msg):\n",
    "        await websocket.send_json({\n",
    "            'type': clientEvents.CLOSE_CLIENT,\n",
    "            'payload': {'msg': msg}\n",
    "        })\n",
    "        await websocket.close()\n",
    "    \n",
    "    def serve(self): uvicorn.run(self.server, host=self.host, port=self.port)"
   ]
  },
  {
   "cell_type": "code",
   "execution_count": null,
   "metadata": {},
   "outputs": [],
   "source": [
    "#export\n",
    "@patch\n",
    "@delegates(FastExplorer.__init__)\n",
    "def fastexplorer(self:Learner, reload=False, **kwargs):\n",
    "    if (not hasattr(self, 'explorer')) or reload: self.explorer = FastExplorer(self, **kwargs)\n",
    "    self.explorer.serve()"
   ]
  },
  {
   "cell_type": "markdown",
   "metadata": {},
   "source": [
    "## Utils"
   ]
  },
  {
   "cell_type": "code",
   "execution_count": null,
   "metadata": {},
   "outputs": [],
   "source": [
    "#export\n",
    "def header_data_from_array_1_0(array, typ):\n",
    "    d = {'shape': array.shape}\n",
    "    if array.flags.c_contiguous:\n",
    "        d['fortran_order'] = False\n",
    "    elif array.flags.f_contiguous:\n",
    "        d['fortran_order'] = True\n",
    "    else:\n",
    "        d['fortran_order'] = False\n",
    "\n",
    "    d['descr'] = np.lib.format.dtype_to_descr(array.dtype)\n",
    "    d['type'] = typ\n",
    "    return d\n",
    "\n",
    "def _write_array_header(d, version=None):\n",
    "    header = [\"{\"]\n",
    "    for key, value in sorted(d.items()):\n",
    "        # Need to use repr here, since we eval these when reading\n",
    "        header.append(\"'%s': %s, \" % (key, repr(value)))\n",
    "    header.append(\"}\")\n",
    "    header = \"\".join(header)\n",
    "    header = np.lib.format._filter_header(header)\n",
    "    if version is None:\n",
    "        header = np.lib.format._wrap_header_guess_version(header)\n",
    "    else:\n",
    "        header = np.lib.format._wrap_header(header, version)\n",
    "    return header\n",
    "\n",
    "def _get_numpy_bytes(x, typ):\n",
    "    a = _write_array_header(header_data_from_array_1_0(xx, typ))\n",
    "    b = x.tobytes()\n",
    "    return a+b"
   ]
  },
  {
   "cell_type": "code",
   "execution_count": null,
   "metadata": {},
   "outputs": [
    {
     "data": {
      "text/plain": [
       "(28, 28)"
      ]
     },
     "execution_count": null,
     "metadata": {},
     "output_type": "execute_result"
    }
   ],
   "source": [
    "xb,yb = dls.one_batch()\n",
    "xx = xb.cpu().numpy()[0,0]\n",
    "xx.shape"
   ]
  },
  {
   "cell_type": "markdown",
   "metadata": {},
   "source": [
    "## Events handlers\n",
    "\n",
    "> Functions defined here are sended by the web client in upper case (eg: LOAD_INPUT)"
   ]
  },
  {
   "cell_type": "code",
   "execution_count": null,
   "metadata": {},
   "outputs": [],
   "source": [
    "#export\n",
    "@patch\n",
    "async def load_input(self:FastExplorer, websocket):\n",
    "    \"Sends a data sample to the client.\"\n",
    "    xb,yb = self.learn.dls.one_batch()\n",
    "    # random\n",
    "    idx = np.random.choice(xb.size(0))\n",
    "    x = xb[idx,0].cpu().numpy() # TODO\n",
    "    array_bytes = _get_numpy_bytes(x, clientEvents.SEND_IMAGE_INPUT)\n",
    "    await websocket.send_bytes(array_bytes)"
   ]
  },
  {
   "cell_type": "code",
   "execution_count": null,
   "metadata": {},
   "outputs": [
    {
     "data": {
      "text/markdown": [
       "<h4 id=\"FastExplorer.load_input\" class=\"doc_header\"><code>FastExplorer.load_input</code><a href=\"__main__.py#L2\" class=\"source_link\" style=\"float:right\">[source]</a></h4>\n",
       "\n",
       "> <code>FastExplorer.load_input</code>(**`websocket`**)\n",
       "\n",
       "Sends a data sample to the client."
      ],
      "text/plain": [
       "<IPython.core.display.Markdown object>"
      ]
     },
     "metadata": {},
     "output_type": "display_data"
    }
   ],
   "source": [
    "show_doc(FastExplorer.load_input)"
   ]
  },
  {
   "cell_type": "code",
   "execution_count": null,
   "metadata": {},
   "outputs": [
    {
     "name": "stderr",
     "output_type": "stream",
     "text": [
      "INFO:     Started server process [11441]\n",
      "INFO:     Waiting for application startup.\n",
      "INFO:     Application startup complete.\n",
      "INFO:     Uvicorn running on http://0.0.0.0:8000 (Press CTRL+C to quit)\n",
      "INFO:     ('127.0.0.1', 60692) - \"WebSocket /ws\" [accepted]\n",
      "INFO:     Client connected: {'type': 'CONNECTED', 'payload': {'client': 'web_client'}}\n",
      "INFO:     Client msg: {'type': 'socket/sendEvent', 'payload': {'event': 'LOAD_INPUT'}}\n",
      "INFO:     Launching: load_input\n",
      "INFO:     Client msg: {'type': 'socket/sendEvent', 'payload': {'event': 'LOAD_INPUT'}}\n",
      "INFO:     Launching: load_input\n",
      "INFO:     Client msg: {'type': 'socket/sendEvent', 'payload': {'event': 'LOAD_INPUT'}}\n",
      "INFO:     Launching: load_input\n",
      "INFO:     Client msg: {'type': 'socket/sendEvent', 'payload': {'event': 'LOAD_INPUT'}}\n",
      "INFO:     Launching: load_input\n",
      "INFO:     Client msg: {'type': 'socket/sendEvent', 'payload': {'event': 'LOAD_INPUT'}}\n",
      "INFO:     Launching: load_input\n",
      "INFO:     Client msg: {'type': 'socket/sendEvent', 'payload': {'event': 'LOAD_INPUT'}}\n",
      "INFO:     Launching: load_input\n",
      "INFO:     Client msg: {'type': 'socket/sendEvent', 'payload': {'event': 'LOAD_INPUT'}}\n",
      "INFO:     Launching: load_input\n",
      "INFO:     Client msg: {'type': 'socket/sendEvent', 'payload': {'event': 'LOAD_INPUT'}}\n",
      "INFO:     Launching: load_input\n",
      "INFO:     Client msg: {'type': 'socket/sendEvent', 'payload': {'event': 'LOAD_INPUT'}}\n",
      "INFO:     Launching: load_input\n",
      "INFO:     Client msg: {'type': 'socket/sendEvent', 'payload': {'event': 'LOAD_INPUT'}}\n",
      "INFO:     Launching: load_input\n",
      "INFO:     Client msg: {'type': 'socket/sendEvent', 'payload': {'event': 'LOAD_INPUT'}}\n",
      "INFO:     Launching: load_input\n",
      "INFO:     Client msg: {'type': 'socket/sendEvent', 'payload': {'event': 'LOAD_INPUT'}}\n",
      "INFO:     Launching: load_input\n",
      "INFO:     Client msg: {'type': 'socket/sendEvent', 'payload': {'event': 'LOAD_INPUT'}}\n",
      "INFO:     Launching: load_input\n",
      "INFO:     Client msg: {'type': 'socket/sendEvent', 'payload': {'event': 'LOAD_INPUT'}}\n",
      "INFO:     Launching: load_input\n",
      "INFO:     Client msg: {'type': 'socket/sendEvent', 'payload': {'event': 'LOAD_INPUT'}}\n",
      "INFO:     Launching: load_input\n",
      "INFO:     Client msg: {'type': 'socket/sendEvent', 'payload': {'event': 'LOAD_INPUT'}}\n",
      "INFO:     Launching: load_input\n",
      "INFO:     Client msg: {'type': 'socket/sendEvent', 'payload': {'event': 'LOAD_INPUT'}}\n",
      "INFO:     Launching: load_input\n",
      "INFO:     Client msg: {'type': 'socket/sendEvent', 'payload': {'event': 'LOAD_INPUT'}}\n",
      "INFO:     Launching: load_input\n",
      "INFO:     Client msg: {'type': 'socket/sendEvent', 'payload': {'event': 'LOAD_INPUT'}}\n",
      "INFO:     Launching: load_input\n",
      "INFO:     Client msg: {'type': 'socket/sendEvent', 'payload': {'event': 'LOAD_INPUT'}}\n",
      "INFO:     Launching: load_input\n",
      "INFO:     Client msg: {'type': 'socket/sendEvent', 'payload': {'event': 'LOAD_INPUT'}}\n",
      "INFO:     Launching: load_input\n",
      "INFO:     Client msg: {'type': 'socket/sendEvent', 'payload': {'event': 'LOAD_INPUT'}}\n",
      "INFO:     Launching: load_input\n",
      "INFO:     Client msg: {'type': 'socket/sendEvent', 'payload': {'event': 'LOAD_INPUT'}}\n",
      "INFO:     Launching: load_input\n",
      "ERROR:    Exception in ASGI application\n",
      "Traceback (most recent call last):\n",
      "  File \"/home/renato/anaconda3/envs/ml2/lib/python3.8/site-packages/uvicorn/protocols/websockets/websockets_impl.py\", line 153, in run_asgi\n",
      "    result = await self.app(self.scope, self.asgi_receive, self.asgi_send)\n",
      "  File \"/home/renato/anaconda3/envs/ml2/lib/python3.8/site-packages/uvicorn/middleware/proxy_headers.py\", line 45, in __call__\n",
      "    return await self.app(scope, receive, send)\n",
      "  File \"/home/renato/anaconda3/envs/ml2/lib/python3.8/site-packages/starlette/applications.py\", line 102, in __call__\n",
      "    await self.middleware_stack(scope, receive, send)\n",
      "  File \"/home/renato/anaconda3/envs/ml2/lib/python3.8/site-packages/starlette/middleware/errors.py\", line 146, in __call__\n",
      "    await self.app(scope, receive, send)\n",
      "  File \"/home/renato/anaconda3/envs/ml2/lib/python3.8/site-packages/starlette/exceptions.py\", line 58, in __call__\n",
      "    await self.app(scope, receive, send)\n",
      "  File \"/home/renato/anaconda3/envs/ml2/lib/python3.8/site-packages/starlette/routing.py\", line 550, in __call__\n",
      "    await route.handle(scope, receive, send)\n",
      "  File \"/home/renato/anaconda3/envs/ml2/lib/python3.8/site-packages/starlette/routing.py\", line 283, in handle\n",
      "    await self.app(scope, receive, send)\n",
      "  File \"/home/renato/anaconda3/envs/ml2/lib/python3.8/site-packages/starlette/routing.py\", line 57, in app\n",
      "    await func(session)\n",
      "  File \"<ipython-input-8-67855bb7f6bb>\", line 54, in endpoint\n",
      "    await self.close_client(websocket, 'Finalized by server')\n",
      "  File \"<ipython-input-8-67855bb7f6bb>\", line 58, in close_client\n",
      "    await websocket.send_json({\n",
      "  File \"/home/renato/anaconda3/envs/ml2/lib/python3.8/site-packages/starlette/websockets.py\", line 137, in send_json\n",
      "    await self.send({\"type\": \"websocket.send\", \"text\": text})\n",
      "  File \"/home/renato/anaconda3/envs/ml2/lib/python3.8/site-packages/starlette/websockets.py\", line 68, in send\n",
      "    await self._send(message)\n",
      "  File \"/home/renato/anaconda3/envs/ml2/lib/python3.8/site-packages/uvicorn/protocols/websockets/websockets_impl.py\", line 211, in asgi_send\n",
      "    await self.send(data)\n",
      "  File \"/home/renato/anaconda3/envs/ml2/lib/python3.8/site-packages/websockets/protocol.py\", line 555, in send\n",
      "    await self.ensure_open()\n",
      "  File \"/home/renato/anaconda3/envs/ml2/lib/python3.8/site-packages/websockets/protocol.py\", line 803, in ensure_open\n",
      "    raise self.connection_closed_exc()\n",
      "websockets.exceptions.ConnectionClosedOK: code = 1001 (going away), no reason\n",
      "INFO:     Shutting down\n",
      "INFO:     Waiting for application shutdown.\n",
      "INFO:     Application shutdown complete.\n",
      "INFO:     Finished server process [11441]\n"
     ]
    }
   ],
   "source": [
    "#srv\n",
    "learn.fastexplorer(True)"
   ]
  },
  {
   "cell_type": "markdown",
   "metadata": {},
   "source": [
    "## Export -"
   ]
  },
  {
   "cell_type": "code",
   "execution_count": null,
   "metadata": {},
   "outputs": [
    {
     "name": "stdout",
     "output_type": "stream",
     "text": [
      "Converted 00_representation.ipynb.\n",
      "Converted 01_explorer.ipynb.\n",
      "Converted 10_tutorial.ipynb.\n",
      "Converted index.ipynb.\n"
     ]
    }
   ],
   "source": [
    "#hide\n",
    "from nbdev.export import notebook2script\n",
    "notebook2script()"
   ]
  },
  {
   "cell_type": "code",
   "execution_count": null,
   "metadata": {},
   "outputs": [],
   "source": []
  }
 ],
 "metadata": {
  "kernelspec": {
   "display_name": "ml2",
   "language": "python",
   "name": "ml2"
  }
 },
 "nbformat": 4,
 "nbformat_minor": 2
}
