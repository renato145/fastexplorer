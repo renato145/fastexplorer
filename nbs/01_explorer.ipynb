{
 "cells": [
  {
   "cell_type": "code",
   "execution_count": null,
   "metadata": {},
   "outputs": [],
   "source": [
    "#default_exp explorer"
   ]
  },
  {
   "cell_type": "code",
   "execution_count": null,
   "metadata": {},
   "outputs": [],
   "source": [
    "#export\n",
    "from fastai.vision.all import *\n",
    "from fastexplorer.representation import *\n",
    "from starlette.applications import Starlette\n",
    "from starlette.endpoints import WebSocketEndpoint\n",
    "from starlette.websockets import WebSocketDisconnect\n",
    "import uvicorn, asyncio, json, logging\n",
    "import nest_asyncio\n",
    "nest_asyncio.apply()\n",
    "logger = logging.getLogger()\n",
    "logger.setLevel(logging.INFO)"
   ]
  },
  {
   "cell_type": "code",
   "execution_count": null,
   "metadata": {},
   "outputs": [],
   "source": [
    "#hide\n",
    "%reload_ext autoreload\n",
    "%autoreload 2\n",
    "from nbdev.showdoc import *"
   ]
  },
  {
   "cell_type": "code",
   "execution_count": null,
   "metadata": {},
   "outputs": [],
   "source": [
    "path = untar_data(URLs.MNIST_TINY)\n",
    "dls = ImageDataLoaders.from_folder(path)\n",
    "learn = cnn_learner(dls, resnet18, pretrained=False)"
   ]
  },
  {
   "cell_type": "markdown",
   "metadata": {},
   "source": [
    "# Fast Explorer\n",
    "\n",
    "> Here we will setup the server and store the model representation on the fastai `Learn` object.."
   ]
  },
  {
   "cell_type": "markdown",
   "metadata": {},
   "source": [
    "## Event types"
   ]
  },
  {
   "cell_type": "code",
   "execution_count": null,
   "metadata": {},
   "outputs": [],
   "source": [
    "#export\n",
    "class Events:\n",
    "    def __init__(self, d):\n",
    "        for k,v in d.items(): setattr(self, k, v)\n",
    "\n",
    "    def __repr__(self):\n",
    "        d = '\\n'.join([f'  {k}: {v}' for k,v in self.__dict__.items()])\n",
    "        res = f'{self.__class__.__name__} (\\n{d}\\n)'\n",
    "        return res\n",
    "\n",
    "clientEvents = Events({\n",
    "    'SEND_DATA': 'socket/socketReceiveData',\n",
    "    'INVALID_EVENT': 'socket/socketInvalidEvent',\n",
    "    'SEND_IMAGE_INPUT': 'socket/socketReceiveImageInput',\n",
    "    'NOIMAGE_HEATMAP': 'socket/socketNoImageHeatmap',\n",
    "    'SEND_HEATMAP': 'socket/socketReceiveHeatmap',\n",
    "    'SEND_ERROR' : 'socket/socketError',\n",
    "    'CLOSE_CLIENT': 'socket/socketServerClosed',\n",
    "})\n",
    "\n",
    "serverEvents = Events({\n",
    "    'RECEIVE_EVENT': 'socket/sendEvent',\n",
    "})"
   ]
  },
  {
   "cell_type": "markdown",
   "metadata": {},
   "source": [
    "**Available events**"
   ]
  },
  {
   "cell_type": "markdown",
   "metadata": {},
   "source": [
    "clientEvents define the actions managed by the web client (send from python, executed by js):"
   ]
  },
  {
   "cell_type": "code",
   "execution_count": null,
   "metadata": {},
   "outputs": [
    {
     "data": {
      "text/plain": [
       "Events (\n",
       "  SEND_DATA: socket/socketReceiveData\n",
       "  INVALID_EVENT: socket/socketInvalidEvent\n",
       "  SEND_IMAGE_INPUT: socket/socketReceiveImageInput\n",
       "  NOIMAGE_HEATMAP: socket/socketNoImageHeatmap\n",
       "  SEND_HEATMAP: socket/socketReceiveHeatmap\n",
       "  SEND_ERROR: socket/socketError\n",
       "  CLOSE_CLIENT: socket/socketServerClosed\n",
       ")"
      ]
     },
     "execution_count": null,
     "metadata": {},
     "output_type": "execute_result"
    }
   ],
   "source": [
    "clientEvents"
   ]
  },
  {
   "cell_type": "markdown",
   "metadata": {},
   "source": [
    "serverEvents define the actions managed by the `FastExplorer` server (send by js, executed by python)."
   ]
  },
  {
   "cell_type": "code",
   "execution_count": null,
   "metadata": {},
   "outputs": [
    {
     "data": {
      "text/plain": [
       "Events (\n",
       "  RECEIVE_EVENT: socket/sendEvent\n",
       ")"
      ]
     },
     "execution_count": null,
     "metadata": {},
     "output_type": "execute_result"
    }
   ],
   "source": [
    "serverEvents"
   ]
  },
  {
   "cell_type": "markdown",
   "metadata": {},
   "source": [
    "## Server"
   ]
  },
  {
   "cell_type": "code",
   "execution_count": null,
   "metadata": {},
   "outputs": [],
   "source": [
    "#export\n",
    "class FastExplorer:\n",
    "    'Wrapper around `Representation` and `ProxyServer`.'\n",
    "    def __init__(self, learn, host='0.0.0.0', port=8000):\n",
    "        store_attr('learn,host,port', self)\n",
    "        self.representation = learn.to_representation()\n",
    "        self.denorm = next((func.decodes for func in learn.dls.after_batch if type(func)==Normalize),noop)\n",
    "        self.server = Starlette()\n",
    "        self.endpoint = self.server.websocket_route('/ws')(self.endpoint)\n",
    "        self.socket = None\n",
    "        self.cache = {'idx':-1, 'hook_layers':[]}\n",
    "\n",
    "    def __repr__(self): return f'{self.__class__.__name__} ()'\n",
    "\n",
    "    async def handle_web_client(self, websocket):\n",
    "        while True:\n",
    "            try:\n",
    "                msg = await websocket.receive_json()\n",
    "                logging.info(f'Client msg: {msg}')\n",
    "                await self.dispatch_event(websocket, msg)\n",
    "            except json.JSONDecodeError: logging.info('Invalid JSON received')\n",
    "            except WebSocketDisconnect: break\n",
    "\n",
    "    async def dispatch_event(self, websocket, msg):\n",
    "        typ = msg['type']\n",
    "        event = msg['payload']['event'].lower()\n",
    "\n",
    "        if typ != serverEvents.RECEIVE_EVENT:\n",
    "            logging.info(f'Invalid type: {typ!r}')\n",
    "        else:\n",
    "            if hasattr(self, event):\n",
    "                logging.info(f'Launching: {event}')\n",
    "                await getattr(self, event)(websocket, msg['payload'])\n",
    "            else:\n",
    "                logging.info(f'Invalid event: {event!r}')\n",
    "                await websocket.send_json({\n",
    "                    'type': clientEvents.INVALID_EVENT,\n",
    "                    'payload': {'type': typ}\n",
    "                })\n",
    "\n",
    "    async def endpoint(self, websocket):\n",
    "        # Open socket\n",
    "        await websocket.accept()\n",
    "        msg = await websocket.receive_json()\n",
    "        self.socket = websocket\n",
    "        logging.info(f'Client connected: {msg}')\n",
    "\n",
    "        # Manage requests\n",
    "        await websocket.send_json({\n",
    "                'type': clientEvents.SEND_DATA,\n",
    "                'payload': { 'data': self.representation.to_json()}\n",
    "            })\n",
    "        await self.handle_web_client(websocket)\n",
    "\n",
    "        # Close socket\n",
    "        await self.close_client(websocket, 'Finalized by server')\n",
    "        logging.info(f'Client closed: {msg}')\n",
    "\n",
    "    async def close_client(self, websocket, msg):\n",
    "        await websocket.send_json({\n",
    "            'type': clientEvents.CLOSE_CLIENT,\n",
    "            'payload': {'msg': msg}\n",
    "        })\n",
    "        await websocket.close()\n",
    "\n",
    "    def serve(self):\n",
    "        logging.info(f'To visualize the model information, go to:')\n",
    "        logging.info(f'https://renato145.github.io/fastexplorer-js')\n",
    "        uvicorn.run(self.server, host=self.host, port=self.port)"
   ]
  },
  {
   "cell_type": "code",
   "execution_count": null,
   "metadata": {},
   "outputs": [],
   "source": [
    "#export\n",
    "@patch\n",
    "@delegates(FastExplorer.__init__)\n",
    "def fastexplorer(self:Learner, reload=False, **kwargs):\n",
    "    if (not hasattr(self, 'explorer')) or reload: self.explorer = FastExplorer(self, **kwargs)\n",
    "    self.explorer.serve()"
   ]
  },
  {
   "cell_type": "markdown",
   "metadata": {},
   "source": [
    "## Utils"
   ]
  },
  {
   "cell_type": "code",
   "execution_count": null,
   "metadata": {},
   "outputs": [],
   "source": [
    "#export\n",
    "def header_data_from_array_1_0(array):\n",
    "    d = {'shape': array.shape}\n",
    "    if array.flags.c_contiguous  : d['fortran_order'] = False\n",
    "    elif array.flags.f_contiguous: d['fortran_order'] = True\n",
    "    else                         : d['fortran_order'] = False\n",
    "\n",
    "    d['descr'] = np.lib.format.dtype_to_descr(array.dtype)\n",
    "    return d\n",
    "\n",
    "def _format_dict(d):\n",
    "    header = [\"{\"]\n",
    "    for key, value in sorted(d.items()):\n",
    "        # Need to use repr here, since we eval these when reading\n",
    "        header.append(\"'%s': %s, \" % (key, repr(value)))\n",
    "    header.append(\"}\")\n",
    "    return \"\".join(header)\n",
    "\n",
    "def _write_array_header(d, version=None):\n",
    "    header = _format_dict(d)\n",
    "    header = np.lib.format._filter_header(header)\n",
    "    if version is None:\n",
    "        header = np.lib.format._wrap_header_guess_version(header)\n",
    "    else:\n",
    "        header = np.lib.format._wrap_header(header, version)\n",
    "    return header\n",
    "\n",
    "def get_numpy_bytes(x, typ, xtra=None):\n",
    "    \"Transforms a numpy array into bytes and attach a `clientEvents`\"\n",
    "    a = {'type': typ}\n",
    "    if xtra is not None: a.update(xtra)\n",
    "    a = _format_dict(a).encode('latin1')\n",
    "    a = a + b' '*(128-len(a))\n",
    "    b = _write_array_header(header_data_from_array_1_0(x))\n",
    "    c = x.tobytes()\n",
    "    return a+b+c"
   ]
  },
  {
   "cell_type": "code",
   "execution_count": null,
   "metadata": {},
   "outputs": [
    {
     "data": {
      "text/plain": [
       "(28, 28)"
      ]
     },
     "execution_count": null,
     "metadata": {},
     "output_type": "execute_result"
    }
   ],
   "source": [
    "xb,yb = dls.one_batch()\n",
    "xx = xb.cpu().numpy()[0,0]\n",
    "xx.shape"
   ]
  },
  {
   "cell_type": "code",
   "execution_count": null,
   "metadata": {},
   "outputs": [],
   "source": [
    "#export\n",
    "def _get_children(m, name):\n",
    "    for n,m in m.named_children():\n",
    "        if n==name: return m\n",
    "\n",
    "    raise Exception(f'{name!r} not found in {m}')\n",
    "\n",
    "def _get_module_path(m, path):\n",
    "    for p in path.split('/'): m = _get_children(m, p)\n",
    "    return m"
   ]
  },
  {
   "cell_type": "code",
   "execution_count": null,
   "metadata": {},
   "outputs": [
    {
     "data": {
      "text/plain": [
       "ReLU(inplace=True)"
      ]
     },
     "execution_count": null,
     "metadata": {},
     "output_type": "execute_result"
    }
   ],
   "source": [
    "_get_module_path(learn.model, '0/4/0/relu')"
   ]
  },
  {
   "cell_type": "markdown",
   "metadata": {},
   "source": [
    "## Events handlers\n",
    "\n",
    "> Functions defined here are sended by the web client in upper case (eg: LOAD_INPUT)"
   ]
  },
  {
   "cell_type": "code",
   "execution_count": null,
   "metadata": {},
   "outputs": [],
   "source": [
    "#export\n",
    "@patch\n",
    "def _get_batch(self:FastExplorer):\n",
    "    \"Load and cache a batch.\"\n",
    "    if 'batch' in self.cache.keys(): return self.cache['batch']\n",
    "    xb,yb = self.learn.dls.valid.one_batch()\n",
    "    xb_denorm = self.denorm(xb)\n",
    "    self.cache['batch'] = {'x': xb, 'y': yb, 'xb_denorm': xb_denorm}\n",
    "    return self.cache['batch']\n",
    "\n",
    "@patch\n",
    "def _get_input_sample(self:FastExplorer):\n",
    "    \"Load and cache a sample.\"\n",
    "    idx = self.cache['idx']\n",
    "    x = self._get_batch()['x'][idx,None]\n",
    "    return x\n",
    "\n",
    "@patch\n",
    "def _get_input_image(self:FastExplorer):\n",
    "    \"Load and cache a sample.\"\n",
    "    idx = self.cache['idx']\n",
    "    x = self._get_batch()['xb_denorm'][idx].cpu().contiguous().numpy()\n",
    "    return x"
   ]
  },
  {
   "cell_type": "code",
   "execution_count": null,
   "metadata": {},
   "outputs": [],
   "source": [
    "#export\n",
    "@patch\n",
    "async def load_input(self:FastExplorer, websocket, payload=None):\n",
    "    \"Sends a data sample to the client.\"\n",
    "    self.cache['idx'] = (self.cache['idx'] + 1) % self.learn.dls.bs\n",
    "    x = self._get_input_image()\n",
    "    array_bytes = get_numpy_bytes(x, clientEvents.SEND_IMAGE_INPUT)\n",
    "    await websocket.send_bytes(array_bytes)\n",
    "    await self._refresh_heatmaps(websocket)\n",
    "\n",
    "@patch\n",
    "async def _refresh_input(self:FastExplorer, websocket):\n",
    "    if self.cache['idx'] == -1: await self.load_input(websocket)"
   ]
  },
  {
   "cell_type": "code",
   "execution_count": null,
   "metadata": {},
   "outputs": [
    {
     "data": {
      "text/markdown": [
       "<h4 id=\"FastExplorer.load_input\" class=\"doc_header\"><code>FastExplorer.load_input</code><a href=\"__main__.py#L2\" class=\"source_link\" style=\"float:right\">[source]</a></h4>\n",
       "\n",
       "> <code>FastExplorer.load_input</code>(**`websocket`**, **`payload`**=*`None`*)\n",
       "\n",
       "Sends a data sample to the client."
      ],
      "text/plain": [
       "<IPython.core.display.Markdown object>"
      ]
     },
     "metadata": {},
     "output_type": "display_data"
    }
   ],
   "source": [
    "show_doc(FastExplorer.load_input)"
   ]
  },
  {
   "cell_type": "code",
   "execution_count": null,
   "metadata": {},
   "outputs": [],
   "source": [
    "#export\n",
    "@patch\n",
    "async def get_heatmap(self:FastExplorer, websocket, payload):\n",
    "    \"Sends the heatmap for a particular layer.\"\n",
    "    try:\n",
    "        await self._refresh_input(websocket)\n",
    "        path = payload.get('path')\n",
    "#         if path not in self.cache['hook_layers']: self.cache['hook_layers'].append(path)\n",
    "        if len(self.cache['hook_layers']) == 0: self.cache['hook_layers'].append(path)\n",
    "        else                                  : self.cache['hook_layers'][0] = path\n",
    "        layer = _get_module_path(self.learn.model, path)\n",
    "        x = self._get_input_sample()\n",
    "        with torch.no_grad(), hook_output(layer) as hook: self.learn.model.eval()(x.cuda())\n",
    "        hm = hook.stored[0].mean(0).squeeze()\n",
    "        if hm.ndim < 2:\n",
    "            await websocket.send_json({'type': clientEvents.NOIMAGE_HEATMAP, 'payload': {'path': path}})\n",
    "        else:\n",
    "            hm = hm - hm.min()\n",
    "            hm = (hm / hm.max()).cpu().numpy()\n",
    "            array_bytes = get_numpy_bytes(hm, clientEvents.SEND_HEATMAP, xtra={'path': path})\n",
    "            await websocket.send_bytes(array_bytes)\n",
    "    except Exception as e:\n",
    "        await websocket.send_json({'type': clientEvents.SEND_ERROR,\n",
    "                                   'payload': {'msg': 'Error getting heatmap.'}})\n",
    "\n",
    "@patch\n",
    "async def _refresh_heatmaps(self:FastExplorer, websocket):\n",
    "    for path in self.cache['hook_layers']: await self.get_heatmap(websocket, payload={'path': path})"
   ]
  },
  {
   "cell_type": "code",
   "execution_count": null,
   "metadata": {},
   "outputs": [
    {
     "data": {
      "text/markdown": [
       "<h4 id=\"FastExplorer.get_heatmap\" class=\"doc_header\"><code>FastExplorer.get_heatmap</code><a href=\"__main__.py#L2\" class=\"source_link\" style=\"float:right\">[source]</a></h4>\n",
       "\n",
       "> <code>FastExplorer.get_heatmap</code>(**`websocket`**, **`payload`**)\n",
       "\n",
       "Sends the heatmap for a particular layer."
      ],
      "text/plain": [
       "<IPython.core.display.Markdown object>"
      ]
     },
     "metadata": {},
     "output_type": "display_data"
    }
   ],
   "source": [
    "show_doc(FastExplorer.get_heatmap)"
   ]
  },
  {
   "cell_type": "code",
   "execution_count": null,
   "metadata": {},
   "outputs": [
    {
     "name": "stderr",
     "output_type": "stream",
     "text": [
      "INFO:root:To visualize the model information, go to:\n",
      "INFO:root:https://renato145.github.io/fastexplorer-js\n",
      "INFO:     Started server process [1652]\n",
      "INFO:uvicorn.error:Started server process [1652]\n",
      "INFO:     Waiting for application startup.\n",
      "INFO:uvicorn.error:Waiting for application startup.\n",
      "INFO:     Application startup complete.\n",
      "INFO:uvicorn.error:Application startup complete.\n",
      "INFO:     Uvicorn running on http://0.0.0.0:8000 (Press CTRL+C to quit)\n",
      "INFO:uvicorn.error:Uvicorn running on http://0.0.0.0:8000 (Press CTRL+C to quit)\n",
      "INFO:     Shutting down\n",
      "INFO:uvicorn.error:Shutting down\n",
      "INFO:     Waiting for application shutdown.\n",
      "INFO:uvicorn.error:Waiting for application shutdown.\n",
      "INFO:     Application shutdown complete.\n",
      "INFO:uvicorn.error:Application shutdown complete.\n",
      "INFO:     Finished server process [1652]\n",
      "INFO:uvicorn.error:Finished server process [1652]\n"
     ]
    }
   ],
   "source": [
    "#srv\n",
    "learn.fastexplorer(True)"
   ]
  },
  {
   "cell_type": "markdown",
   "metadata": {},
   "source": [
    "## Export -"
   ]
  },
  {
   "cell_type": "code",
   "execution_count": null,
   "metadata": {},
   "outputs": [
    {
     "name": "stdout",
     "output_type": "stream",
     "text": [
      "Converted 00_representation.ipynb.\n",
      "Converted 01_explorer.ipynb.\n",
      "Converted 02_loss_landscape.ipynb.\n",
      "Converted index.ipynb.\n"
     ]
    }
   ],
   "source": [
    "#hide\n",
    "from nbdev.export import notebook2script\n",
    "notebook2script()"
   ]
  },
  {
   "cell_type": "code",
   "execution_count": null,
   "metadata": {},
   "outputs": [],
   "source": []
  }
 ],
 "metadata": {
  "kernelspec": {
   "display_name": "ml2",
   "language": "python",
   "name": "ml2"
  }
 },
 "nbformat": 4,
 "nbformat_minor": 2
}
