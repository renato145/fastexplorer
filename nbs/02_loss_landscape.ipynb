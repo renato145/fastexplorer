{
 "cells": [
  {
   "cell_type": "code",
   "execution_count": null,
   "metadata": {},
   "outputs": [],
   "source": [
    "#default_exp loss_landscape"
   ]
  },
  {
   "cell_type": "code",
   "execution_count": null,
   "metadata": {},
   "outputs": [],
   "source": [
    "#export\n",
    "from fastai2.vision.all import *\n",
    "from fastexplorer.representation import *\n",
    "from fastexplorer.explorer import *"
   ]
  },
  {
   "cell_type": "code",
   "execution_count": null,
   "metadata": {},
   "outputs": [],
   "source": [
    "#hide\n",
    "%reload_ext autoreload\n",
    "%autoreload 2\n",
    "from nbdev.showdoc import *"
   ]
  },
  {
   "cell_type": "code",
   "execution_count": null,
   "metadata": {},
   "outputs": [],
   "source": [
    "#hide\n",
    "path = untar_data(URLs.PETS)\n",
    "files = get_image_files(path/\"images\")\n",
    "def label_func(f): return f[0].isupper()\n",
    "dls = ImageDataLoaders.from_name_func(path, files, label_func, item_tfms=Resize(224))\n",
    "learn = cnn_learner(dls, resnet34, metrics=accuracy)"
   ]
  },
  {
   "cell_type": "code",
   "execution_count": null,
   "metadata": {},
   "outputs": [
    {
     "data": {
      "text/html": [
       "<table border=\"1\" class=\"dataframe\">\n",
       "  <thead>\n",
       "    <tr style=\"text-align: left;\">\n",
       "      <th>epoch</th>\n",
       "      <th>train_loss</th>\n",
       "      <th>valid_loss</th>\n",
       "      <th>accuracy</th>\n",
       "      <th>time</th>\n",
       "    </tr>\n",
       "  </thead>\n",
       "  <tbody>\n",
       "    <tr>\n",
       "      <td>0</td>\n",
       "      <td>0.139714</td>\n",
       "      <td>0.021332</td>\n",
       "      <td>0.993911</td>\n",
       "      <td>00:13</td>\n",
       "    </tr>\n",
       "  </tbody>\n",
       "</table>"
      ],
      "text/plain": [
       "<IPython.core.display.HTML object>"
      ]
     },
     "metadata": {},
     "output_type": "display_data"
    },
    {
     "data": {
      "text/html": [
       "<table border=\"1\" class=\"dataframe\">\n",
       "  <thead>\n",
       "    <tr style=\"text-align: left;\">\n",
       "      <th>epoch</th>\n",
       "      <th>train_loss</th>\n",
       "      <th>valid_loss</th>\n",
       "      <th>accuracy</th>\n",
       "      <th>time</th>\n",
       "    </tr>\n",
       "  </thead>\n",
       "  <tbody>\n",
       "    <tr>\n",
       "      <td>0</td>\n",
       "      <td>0.068502</td>\n",
       "      <td>0.030123</td>\n",
       "      <td>0.989175</td>\n",
       "      <td>00:16</td>\n",
       "    </tr>\n",
       "    <tr>\n",
       "      <td>1</td>\n",
       "      <td>0.029429</td>\n",
       "      <td>0.009352</td>\n",
       "      <td>0.996617</td>\n",
       "      <td>00:16</td>\n",
       "    </tr>\n",
       "  </tbody>\n",
       "</table>"
      ],
      "text/plain": [
       "<IPython.core.display.HTML object>"
      ]
     },
     "metadata": {},
     "output_type": "display_data"
    }
   ],
   "source": [
    "#srv\n",
    "# learn.fine_tune(2)\n",
    "learn.load('resnet34');"
   ]
  },
  {
   "cell_type": "markdown",
   "metadata": {},
   "source": [
    "# Loss Landscape\n",
    "\n",
    "> Use the idea of https://github.com/tomgoldstein/loss-landscape to visualize the loss function."
   ]
  },
  {
   "cell_type": "markdown",
   "metadata": {},
   "source": [
    "TODO:\n",
    "\n",
    "- [ ] Report progress back to js."
   ]
  },
  {
   "cell_type": "code",
   "execution_count": null,
   "metadata": {},
   "outputs": [],
   "source": [
    "#export\n",
    "clientEvents.SEND_LANDSCAPE = 'socket/socketReceiveLossLandscape'"
   ]
  },
  {
   "cell_type": "code",
   "execution_count": null,
   "metadata": {},
   "outputs": [
    {
     "data": {
      "text/plain": [
       "Events (\n",
       "  SEND_DATA: socket/socketReceiveData\n",
       "  INVALID_EVENT: socket/socketInvalidEvent\n",
       "  SEND_IMAGE_INPUT: socket/socketReceiveImageInput\n",
       "  NOIMAGE_HEATMAP: socket/socketNoImageHeatmap\n",
       "  SEND_HEATMAP: socket/socketReceiveHeatmap\n",
       "  SEND_ERROR: socket/socketError\n",
       "  CLOSE_CLIENT: socket/socketServerClosed\n",
       "  SEND_LANDSCAPE: socket/socketReceiveLossLandscape\n",
       ")"
      ]
     },
     "execution_count": null,
     "metadata": {},
     "output_type": "execute_result"
    }
   ],
   "source": [
    "clientEvents"
   ]
  },
  {
   "cell_type": "markdown",
   "metadata": {},
   "source": [
    "## Utils"
   ]
  },
  {
   "cell_type": "code",
   "execution_count": null,
   "metadata": {},
   "outputs": [],
   "source": [
    "#export\n",
    "def _normalize_direction(direction, weights):\n",
    "    '''\n",
    "    Rescale the filters (weights in group) in 'direction' so that each\n",
    "    filter has the same norm as its corresponding filter in 'weights'.\n",
    "    '''\n",
    "    for d,w in zip(direction, weights): d.mul_(w.norm()/(d.norm() + 1e-10))\n",
    "\n",
    "def _get_random_direction(m):\n",
    "    weights = [o.data for o in m.parameters()]\n",
    "    direction = [torch.randn(o.shape) for o in weights]\n",
    "\n",
    "    for d,w in zip(direction, weights):\n",
    "        if d.dim() <= 1: d.fill_(0)\n",
    "        else           : _normalize_direction(d, w)\n",
    "            \n",
    "    return direction\n",
    "\n",
    "def _compute_landscape(learn, samples=30, size=1, final_size=100):\n",
    "    m = learn.model\n",
    "    dls = learn.dls\n",
    "    weights = [o.data.clone() for o in m.parameters()]\n",
    "    xdirection = _get_random_direction(m)\n",
    "    ydirection = _get_random_direction(m)\n",
    "    xcoords = torch.linspace(-size, size, samples)\n",
    "    ycoords = torch.linspace(-size, size, samples)\n",
    "    losses = -torch.ones(samples,samples)\n",
    "    xmesh,ymesh = torch.meshgrid(xcoords, ycoords)\n",
    "    shape = losses.shape\n",
    "    losses,xmesh,ymesh = [o.contiguous().view(-1) for o in [losses,xmesh,ymesh]]\n",
    "    xb,yb = dls.one_batch()\n",
    "    \n",
    "    for l,x,y in progress_bar(zip(losses,xmesh,ymesh), total=losses.size(0)):\n",
    "        changes = [(dx*x + dy*y) for dx,dy in zip(xdirection,ydirection)]\n",
    "        for p,w,c in zip(m.parameters(), weights, changes): p.data = w.add(c.to(w.device))\n",
    "        with torch.no_grad():\n",
    "            yb_ = m.eval()(xb)\n",
    "            loss = learn.loss_func(yb_, yb)\n",
    "\n",
    "        l.fill_(loss)\n",
    "\n",
    "    losses,xmesh,ymesh = [o.view(*shape) for o in [losses,xmesh,ymesh]]\n",
    "    landscape = (F.interpolate(losses[None,None], [final_size,final_size], mode='bilinear',\n",
    "                               align_corners=False)[0,0]\n",
    "                 if final_size > samples else losses)\n",
    "    return landscape.numpy()"
   ]
  },
  {
   "cell_type": "markdown",
   "metadata": {},
   "source": [
    "## Event handler"
   ]
  },
  {
   "cell_type": "code",
   "execution_count": null,
   "metadata": {},
   "outputs": [],
   "source": [
    "#export\n",
    "@patch\n",
    "async def get_loss_landscape(self:FastExplorer, websocket, payload=None):\n",
    "    \"Sends the loss landscape for the model.\"\n",
    "    try:        \n",
    "        if 'loss_landscape' not in self.cache.keys():\n",
    "            self.cache['loss_landscape'] = _compute_landscape(self.learn)\n",
    "\n",
    "        landscape = self.cache['loss_landscape']\n",
    "        percentile = np.percentile(landscape, 95)\n",
    "        array_bytes = get_numpy_bytes(landscape, clientEvents.SEND_LANDSCAPE, xtra={'max_z': percentile})\n",
    "        await websocket.send_bytes(array_bytes)\n",
    "    except Exception as e:\n",
    "        await websocket.send_json({'type': clientEvents.SEND_ERROR,\n",
    "                                   'payload': {'msg': 'Error getting the loss landscape.'}})"
   ]
  },
  {
   "cell_type": "code",
   "execution_count": null,
   "metadata": {},
   "outputs": [
    {
     "name": "stderr",
     "output_type": "stream",
     "text": [
      "INFO:     To visualize the model information, go to:\n",
      "INFO:     https://renato145.github.io/fastexplorer-js\n",
      "INFO:     Started server process [14881]\n",
      "INFO:     Waiting for application startup.\n",
      "INFO:     Application startup complete.\n",
      "INFO:     Uvicorn running on http://0.0.0.0:8000 (Press CTRL+C to quit)\n",
      "INFO:     Shutting down\n",
      "INFO:     Waiting for application shutdown.\n",
      "INFO:     Application shutdown complete.\n",
      "INFO:     Finished server process [14881]\n"
     ]
    }
   ],
   "source": [
    "#srv\n",
    "learn.fastexplorer()"
   ]
  },
  {
   "cell_type": "code",
   "execution_count": null,
   "metadata": {},
   "outputs": [],
   "source": [
    "#hide\n",
    "# plt.contour(xmesh, ymesh, losses, cmap='summer', levels=np.arange(0.1,10,0.5))\n",
    "\n",
    "# from mpl_toolkits.mplot3d import Axes3D\n",
    "\n",
    "# fig = plt.figure()\n",
    "# ax = Axes3D(fig)\n",
    "# surf = ax.plot_surface(xmesh, ymesh, losses.numpy(), cmap=plt.cm.coolwarm, linewidth=0, antialiased=False)\n",
    "# fig.colorbar(surf, shrink=0.5, aspect=5);\n",
    "\n",
    "# fig.update_layout(\n",
    "#     scene = dict(\n",
    "#         xaxis = dict(nticks=4, range=[-100,100],),\n",
    "#                      yaxis = dict(nticks=4, range=[-50,100],),\n",
    "#                      zaxis = dict(nticks=4, range=[-100,100],),),\n",
    "#     width=700,\n",
    "#     margin=dict(r=20, l=10, b=10, t=10))\n",
    "\n",
    "# import plotly.graph_objects as go\n",
    "# fig = go.Figure(data=[go.Surface(z=np.log(t))])\n",
    "# fig.update_layout(autosize=False, width=500, height=500, margin=dict(l=65, r=50, b=65, t=90))"
   ]
  },
  {
   "cell_type": "markdown",
   "metadata": {},
   "source": [
    "## Export -"
   ]
  },
  {
   "cell_type": "code",
   "execution_count": null,
   "metadata": {},
   "outputs": [
    {
     "name": "stdout",
     "output_type": "stream",
     "text": [
      "Converted 00_representation.ipynb.\n",
      "Converted 01_explorer.ipynb.\n",
      "Converted 02_loss_landscape.ipynb.\n",
      "Converted index.ipynb.\n"
     ]
    }
   ],
   "source": [
    "#hide\n",
    "from nbdev.export import notebook2script\n",
    "notebook2script()"
   ]
  },
  {
   "cell_type": "code",
   "execution_count": null,
   "metadata": {},
   "outputs": [],
   "source": []
  }
 ],
 "metadata": {
  "kernelspec": {
   "display_name": "ml2",
   "language": "python",
   "name": "ml2"
  }
 },
 "nbformat": 4,
 "nbformat_minor": 4
}
