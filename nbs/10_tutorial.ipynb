{
 "cells": [
  {
   "cell_type": "markdown",
   "metadata": {},
   "source": [
    "# Tutorial\n",
    "\n",
    "> TODO"
   ]
  },
  {
   "cell_type": "code",
   "execution_count": null,
   "metadata": {},
   "outputs": [],
   "source": [
    "# all_slow"
   ]
  },
  {
   "cell_type": "code",
   "execution_count": null,
   "metadata": {},
   "outputs": [],
   "source": [
    "%reload_ext autoreload\n",
    "%autoreload 2\n",
    "from fastai2.vision.all import *\n",
    "from fastexplorer.all import *"
   ]
  },
  {
   "cell_type": "code",
   "execution_count": null,
   "metadata": {},
   "outputs": [],
   "source": [
    "path = untar_data(URLs.MNIST_TINY)\n",
    "dls = ImageDataLoaders.from_folder(path)\n",
    "learn = cnn_learner(dls, resnet18, pretrained=False)"
   ]
  },
  {
   "cell_type": "code",
   "execution_count": null,
   "metadata": {},
   "outputs": [],
   "source": [
    "m = learn.model"
   ]
  },
  {
   "cell_type": "code",
   "execution_count": null,
   "metadata": {},
   "outputs": [
    {
     "name": "stderr",
     "output_type": "stream",
     "text": [
      "INFO:     Started server process [6787]\n",
      "INFO:     Waiting for application startup.\n",
      "INFO:     Application startup complete.\n",
      "INFO:     Uvicorn running on http://0.0.0.0:8000 (Press CTRL+C to quit)\n",
      "INFO:     ('127.0.0.1', 60258) - \"WebSocket /ws\" [accepted]\n",
      "INFO:     Client connected: {'client': 'web_client'}\n",
      "INFO:     Client msg: {'event': 'load_input'}\n",
      "INFO:     Invalid event: load_input\n",
      "ERROR:    Exception in ASGI application\n",
      "Traceback (most recent call last):\n",
      "  File \"/home/renato/anaconda3/envs/ml2/lib/python3.8/site-packages/uvicorn/protocols/websockets/websockets_impl.py\", line 153, in run_asgi\n",
      "    result = await self.app(self.scope, self.asgi_receive, self.asgi_send)\n",
      "  File \"/home/renato/anaconda3/envs/ml2/lib/python3.8/site-packages/uvicorn/middleware/proxy_headers.py\", line 45, in __call__\n",
      "    return await self.app(scope, receive, send)\n",
      "  File \"/home/renato/anaconda3/envs/ml2/lib/python3.8/site-packages/starlette/applications.py\", line 102, in __call__\n",
      "    await self.middleware_stack(scope, receive, send)\n",
      "  File \"/home/renato/anaconda3/envs/ml2/lib/python3.8/site-packages/starlette/middleware/errors.py\", line 146, in __call__\n",
      "    await self.app(scope, receive, send)\n",
      "  File \"/home/renato/anaconda3/envs/ml2/lib/python3.8/site-packages/starlette/exceptions.py\", line 58, in __call__\n",
      "    await self.app(scope, receive, send)\n",
      "  File \"/home/renato/anaconda3/envs/ml2/lib/python3.8/site-packages/starlette/routing.py\", line 550, in __call__\n",
      "    await route.handle(scope, receive, send)\n",
      "  File \"/home/renato/anaconda3/envs/ml2/lib/python3.8/site-packages/starlette/routing.py\", line 283, in handle\n",
      "    await self.app(scope, receive, send)\n",
      "  File \"/home/renato/anaconda3/envs/ml2/lib/python3.8/site-packages/starlette/routing.py\", line 57, in app\n",
      "    await func(session)\n",
      "  File \"/home/renato/github/fastexplorer/fastexplorer/explorer.py\", line 56, in endpoint\n",
      "    await close_client(websocket, 'Finalized by server')\n",
      "  File \"/home/renato/github/fastexplorer/fastexplorer/explorer.py\", line 63, in close_client\n",
      "    await websocket.send_json({'event': 'close', 'msg': msg})\n",
      "  File \"/home/renato/anaconda3/envs/ml2/lib/python3.8/site-packages/starlette/websockets.py\", line 137, in send_json\n",
      "    await self.send({\"type\": \"websocket.send\", \"text\": text})\n",
      "  File \"/home/renato/anaconda3/envs/ml2/lib/python3.8/site-packages/starlette/websockets.py\", line 68, in send\n",
      "    await self._send(message)\n",
      "  File \"/home/renato/anaconda3/envs/ml2/lib/python3.8/site-packages/uvicorn/protocols/websockets/websockets_impl.py\", line 211, in asgi_send\n",
      "    await self.send(data)\n",
      "  File \"/home/renato/anaconda3/envs/ml2/lib/python3.8/site-packages/websockets/protocol.py\", line 555, in send\n",
      "    await self.ensure_open()\n",
      "  File \"/home/renato/anaconda3/envs/ml2/lib/python3.8/site-packages/websockets/protocol.py\", line 803, in ensure_open\n",
      "    raise self.connection_closed_exc()\n",
      "websockets.exceptions.ConnectionClosedOK: code = 1001 (going away), no reason\n",
      "INFO:     ('127.0.0.1', 32926) - \"WebSocket /ws\" [accepted]\n",
      "INFO:     Client connected: {'type': 'CONNECTED', 'payload': {'client': 'web_client'}}\n",
      "INFO:     Shutting down\n",
      "ERROR:    Exception in ASGI application\n",
      "Traceback (most recent call last):\n",
      "  File \"/home/renato/anaconda3/envs/ml2/lib/python3.8/site-packages/websockets/protocol.py\", line 827, in transfer_data\n",
      "    message = await self.read_message()\n",
      "  File \"/home/renato/anaconda3/envs/ml2/lib/python3.8/site-packages/websockets/protocol.py\", line 895, in read_message\n",
      "    frame = await self.read_data_frame(max_size=self.max_size)\n",
      "  File \"/home/renato/anaconda3/envs/ml2/lib/python3.8/site-packages/websockets/protocol.py\", line 971, in read_data_frame\n",
      "    frame = await self.read_frame(max_size)\n",
      "  File \"/home/renato/anaconda3/envs/ml2/lib/python3.8/site-packages/websockets/protocol.py\", line 1047, in read_frame\n",
      "    frame = await Frame.read(\n",
      "  File \"/home/renato/anaconda3/envs/ml2/lib/python3.8/site-packages/websockets/framing.py\", line 105, in read\n",
      "    data = await reader(2)\n",
      "  File \"/home/renato/anaconda3/envs/ml2/lib/python3.8/asyncio/streams.py\", line 721, in readexactly\n",
      "    raise exceptions.IncompleteReadError(incomplete, n)\n",
      "asyncio.exceptions.IncompleteReadError: 0 bytes read on a total of 2 expected bytes\n",
      "\n",
      "The above exception was the direct cause of the following exception:\n",
      "\n",
      "Traceback (most recent call last):\n",
      "  File \"/home/renato/anaconda3/envs/ml2/lib/python3.8/site-packages/uvicorn/protocols/websockets/websockets_impl.py\", line 153, in run_asgi\n",
      "    result = await self.app(self.scope, self.asgi_receive, self.asgi_send)\n",
      "  File \"/home/renato/anaconda3/envs/ml2/lib/python3.8/site-packages/uvicorn/middleware/proxy_headers.py\", line 45, in __call__\n",
      "    return await self.app(scope, receive, send)\n",
      "  File \"/home/renato/anaconda3/envs/ml2/lib/python3.8/site-packages/starlette/applications.py\", line 102, in __call__\n",
      "    await self.middleware_stack(scope, receive, send)\n",
      "  File \"/home/renato/anaconda3/envs/ml2/lib/python3.8/site-packages/starlette/middleware/errors.py\", line 146, in __call__\n",
      "    await self.app(scope, receive, send)\n",
      "  File \"/home/renato/anaconda3/envs/ml2/lib/python3.8/site-packages/starlette/exceptions.py\", line 58, in __call__\n",
      "    await self.app(scope, receive, send)\n",
      "  File \"/home/renato/anaconda3/envs/ml2/lib/python3.8/site-packages/starlette/routing.py\", line 550, in __call__\n",
      "    await route.handle(scope, receive, send)\n",
      "  File \"/home/renato/anaconda3/envs/ml2/lib/python3.8/site-packages/starlette/routing.py\", line 283, in handle\n",
      "    await self.app(scope, receive, send)\n",
      "  File \"/home/renato/anaconda3/envs/ml2/lib/python3.8/site-packages/starlette/routing.py\", line 57, in app\n",
      "    await func(session)\n",
      "  File \"/home/renato/github/fastexplorer/fastexplorer/explorer.py\", line 56, in endpoint\n",
      "    await close_client(websocket, 'Finalized by server')\n",
      "  File \"/home/renato/github/fastexplorer/fastexplorer/explorer.py\", line 63, in close_client\n",
      "    await websocket.send_json({'event': 'close', 'msg': msg})\n",
      "  File \"/home/renato/anaconda3/envs/ml2/lib/python3.8/site-packages/starlette/websockets.py\", line 137, in send_json\n",
      "    await self.send({\"type\": \"websocket.send\", \"text\": text})\n",
      "  File \"/home/renato/anaconda3/envs/ml2/lib/python3.8/site-packages/starlette/websockets.py\", line 68, in send\n",
      "    await self._send(message)\n",
      "  File \"/home/renato/anaconda3/envs/ml2/lib/python3.8/site-packages/uvicorn/protocols/websockets/websockets_impl.py\", line 211, in asgi_send\n",
      "    await self.send(data)\n",
      "  File \"/home/renato/anaconda3/envs/ml2/lib/python3.8/site-packages/websockets/protocol.py\", line 555, in send\n",
      "    await self.ensure_open()\n",
      "  File \"/home/renato/anaconda3/envs/ml2/lib/python3.8/site-packages/websockets/protocol.py\", line 803, in ensure_open\n",
      "    raise self.connection_closed_exc()\n",
      "websockets.exceptions.ConnectionClosedError: code = 1006 (connection closed abnormally [internal]), no reason\n",
      "INFO:     Waiting for application shutdown.\n",
      "INFO:     Application shutdown complete.\n",
      "INFO:     Finished server process [6787]\n"
     ]
    }
   ],
   "source": [
    "learn.fastexplorer(True)"
   ]
  },
  {
   "cell_type": "code",
   "execution_count": null,
   "metadata": {},
   "outputs": [],
   "source": [
    "# TODO"
   ]
  },
  {
   "cell_type": "code",
   "execution_count": null,
   "metadata": {},
   "outputs": [],
   "source": []
  },
  {
   "cell_type": "code",
   "execution_count": null,
   "metadata": {},
   "outputs": [],
   "source": []
  },
  {
   "cell_type": "code",
   "execution_count": null,
   "metadata": {},
   "outputs": [],
   "source": []
  },
  {
   "cell_type": "code",
   "execution_count": null,
   "metadata": {},
   "outputs": [],
   "source": []
  }
 ],
 "metadata": {
  "kernelspec": {
   "display_name": "ml2",
   "language": "python",
   "name": "ml2"
  }
 },
 "nbformat": 4,
 "nbformat_minor": 4
}
